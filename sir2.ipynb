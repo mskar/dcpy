{
 "cells": [
  {
   "cell_type": "markdown",
   "metadata": {
    "execution": {
     "iopub.execute_input": "2020-08-20T02:02:51.790936Z",
     "iopub.status.busy": "2020-08-20T02:02:51.790314Z",
     "iopub.status.idle": "2020-08-20T02:02:52.269628Z",
     "shell.execute_reply": "2020-08-20T02:02:52.269976Z"
    },
    "jupyter": {
     "outputs_hidden": false
    },
    "papermill": {
     "duration": 0.014138,
     "end_time": "2020-08-20T04:26:52.274517",
     "exception": false,
     "start_time": "2020-08-20T04:26:52.260379",
     "status": "completed"
    },
    "pycharm": {
     "name": "#%%\n"
    },
    "tags": []
   },
   "source": [
    "# Imports"
   ]
  },
  {
   "cell_type": "markdown",
   "metadata": {
    "execution": {
     "iopub.execute_input": "2020-08-20T02:02:51.790936Z",
     "iopub.status.busy": "2020-08-20T02:02:51.790314Z",
     "iopub.status.idle": "2020-08-20T02:02:52.269628Z",
     "shell.execute_reply": "2020-08-20T02:02:52.269976Z"
    },
    "jupyter": {
     "outputs_hidden": false
    },
    "papermill": {
     "duration": 0.014138,
     "end_time": "2020-08-20T04:26:52.274517",
     "exception": false,
     "start_time": "2020-08-20T04:26:52.260379",
     "status": "completed"
    },
    "pycharm": {
     "name": "#%%\n"
    },
    "tags": []
   },
   "source": [
    "# Imports"
   ]
  },
  {
   "cell_type": "code",
   "execution_count": 1,
   "metadata": {
    "collapsed": false,
    "jupyter": {
     "outputs_hidden": false
    },
    "papermill": {
     "duration": 0.57139,
     "end_time": "2020-08-20T04:26:52.857508",
     "exception": false,
     "start_time": "2020-08-20T04:26:52.286118",
     "status": "completed"
    },
    "pycharm": {
     "name": "#%%\n"
    },
    "tags": []
   },
   "outputs": [],
   "source": [
    "import numpy as np\n",
    "import pandas as pd\n",
    "\n",
    "from sir import sir"
   ]
  },
  {
   "cell_type": "markdown",
   "metadata": {
    "papermill": {
     "duration": 0.009529,
     "end_time": "2020-08-20T04:26:52.876565",
     "exception": false,
     "start_time": "2020-08-20T04:26:52.867036",
     "status": "completed"
    },
    "tags": []
   },
   "source": [
    "# Default inputs"
   ]
  },
  {
   "cell_type": "code",
   "execution_count": 2,
   "metadata": {
    "papermill": {
     "duration": 0.015684,
     "end_time": "2020-08-20T04:26:52.902018",
     "exception": false,
     "start_time": "2020-08-20T04:26:52.886334",
     "status": "completed"
    },
    "tags": [
     "parameters"
    ]
   },
   "outputs": [],
   "source": [
    "START_DATE = \"2020-04-15\"\n",
    "FORECAST_DAYS_1 = 45\n",
    "FORECAST_DAYS_2 = 55\n",
    "FIPS = 36061\n",
    "BETA_PERCENTILE_1 = 25\n",
    "BETA_PERCENTILE_2 = 50\n",
    "GAMMA = 1/14\n",
    "START_DAY = 0"
   ]
  },
  {
   "cell_type": "markdown",
   "metadata": {
    "papermill": {
     "duration": 0.009529,
     "end_time": "2020-08-20T04:26:52.876565",
     "exception": false,
     "start_time": "2020-08-20T04:26:52.867036",
     "status": "completed"
    },
    "tags": []
   },
   "source": [
    "# Injected inputs"
   ]
  },
  {
   "cell_type": "code",
   "execution_count": 3,
   "metadata": {
    "papermill": {
     "duration": 0.013758,
     "end_time": "2020-08-20T04:26:52.925030",
     "exception": false,
     "start_time": "2020-08-20T04:26:52.911272",
     "status": "completed"
    },
    "tags": [
     "injected-parameters"
    ]
   },
   "outputs": [],
   "source": [
    "# Parameters\n",
    "FIPS = 17031\n",
    "BETA_PERCENTILE_1 = None\n",
    "BETA_PERCENTILE_2 = None\n"
   ]
  },
  {
   "cell_type": "markdown",
   "metadata": {
    "papermill": {
     "duration": 0.009529,
     "end_time": "2020-08-20T04:26:52.876565",
     "exception": false,
     "start_time": "2020-08-20T04:26:52.867036",
     "status": "completed"
    },
    "tags": []
   },
   "source": [
    "# Dates"
   ]
  },
  {
   "cell_type": "code",
   "execution_count": 4,
   "metadata": {
    "papermill": {
     "duration": 0.015684,
     "end_time": "2020-08-20T04:26:52.902018",
     "exception": false,
     "start_time": "2020-08-20T04:26:52.886334",
     "status": "completed"
    }
   },
   "outputs": [],
   "source": [
    "TODAY = pd.Timestamp.today().date()\n",
    "START_DATE = pd.Timestamp(START_DATE).date()\n",
    "STOP_DATE = (START_DATE + pd.DateOffset(FORECAST_DAYS_1)).date()"
   ]
  },
  {
   "cell_type": "markdown",
   "metadata": {
    "papermill": {
     "duration": 0.009529,
     "end_time": "2020-08-20T04:26:52.876565",
     "exception": false,
     "start_time": "2020-08-20T04:26:52.867036",
     "status": "completed"
    },
    "tags": []
   },
   "source": [
    "# Files"
   ]
  },
  {
   "cell_type": "code",
   "execution_count": 5,
   "metadata": {
    "papermill": {
     "duration": 0.013972,
     "end_time": "2020-08-20T04:26:52.970813",
     "exception": false,
     "start_time": "2020-08-20T04:26:52.956841",
     "status": "completed"
    },
    "tags": []
   },
   "outputs": [],
   "source": [
    "INPUT_FILE_NAME = f\"{TODAY}_{FIPS}_betas.csv\"\n",
    "OUTPUT_FILE_NAME = f\"{START_DATE}_{TODAY}_{FIPS}_sir2-model-output.csv\""
   ]
  },
  {
   "cell_type": "markdown",
   "metadata": {
    "execution": {
     "iopub.execute_input": "2020-08-20T02:02:52.345006Z",
     "iopub.status.busy": "2020-08-20T02:02:52.344517Z",
     "iopub.status.idle": "2020-08-20T02:02:52.346292Z",
     "shell.execute_reply": "2020-08-20T02:02:52.346637Z"
    },
    "jupyter": {
     "outputs_hidden": false
    },
    "papermill": {
     "duration": 0.008313,
     "end_time": "2020-08-20T04:26:52.987406",
     "exception": false,
     "start_time": "2020-08-20T04:26:52.979093",
     "status": "completed"
    },
    "pycharm": {
     "name": "#%%\n"
    },
    "tags": []
   },
   "source": [
    "# Read in beta value"
   ]
  },
  {
   "cell_type": "code",
   "execution_count": 6,
   "metadata": {
    "collapsed": false,
    "jupyter": {
     "outputs_hidden": false
    },
    "papermill": {
     "duration": 0.015868,
     "end_time": "2020-08-20T04:26:53.012072",
     "exception": false,
     "start_time": "2020-08-20T04:26:52.996204",
     "status": "completed"
    },
    "pycharm": {
     "name": "#%%\n"
    },
    "tags": []
   },
   "outputs": [],
   "source": [
    "df = pd.read_csv(INPUT_FILE_NAME).set_index(\"percentile\")\n",
    "beta_1 = df.loc[BETA_PERCENTILE_1, \"beta\"] if BETA_PERCENTILE_1 is not None else None\n",
    "beta_2 = df.loc[BETA_PERCENTILE_2, \"beta\"] if BETA_PERCENTILE_2 is not None else None"
   ]
  },
  {
   "cell_type": "markdown",
   "metadata": {
    "execution": {
     "iopub.execute_input": "2020-08-20T02:02:52.364304Z",
     "iopub.status.busy": "2020-08-20T02:02:52.363762Z",
     "iopub.status.idle": "2020-08-20T02:02:55.809298Z",
     "shell.execute_reply": "2020-08-20T02:02:55.809697Z"
    },
    "jupyter": {
     "outputs_hidden": false
    },
    "papermill": {
     "duration": 0.008074,
     "end_time": "2020-08-20T04:26:53.028416",
     "exception": false,
     "start_time": "2020-08-20T04:26:53.020342",
     "status": "completed"
    },
    "pycharm": {
     "name": "#%%\n"
    },
    "tags": []
   },
   "source": [
    "# Read in USA FACTS data"
   ]
  },
  {
   "cell_type": "code",
   "execution_count": 7,
   "metadata": {
    "collapsed": false,
    "jupyter": {
     "outputs_hidden": false
    },
    "papermill": {
     "duration": 2.805071,
     "end_time": "2020-08-20T04:26:55.841816",
     "exception": false,
     "start_time": "2020-08-20T04:26:53.036745",
     "status": "completed"
    },
    "pycharm": {
     "name": "#%%\n"
    },
    "tags": []
   },
   "outputs": [],
   "source": [
    "case_df = pd.read_csv(\n",
    "    \"https://usafactsstatic.blob.core.windows.net/\"\n",
    "    \"public/data/covid-19/covid_confirmed_usafacts.csv\",\n",
    ")\n",
    "\n",
    "case_df = case_df[case_df[\"countyFIPS\"] == FIPS].melt(\n",
    "    # Melt dataframe (wide to long format)\n",
    "    id_vars=[\"countyFIPS\", \"County Name\", \"State\", \"stateFIPS\"],\n",
    "    value_name=\"confirmed\",\n",
    "    var_name=\"date\",\n",
    ").astype({\"date\": \"datetime64\"})"
   ]
  },
  {
   "cell_type": "code",
   "execution_count": 8,
   "metadata": {
    "collapsed": false,
    "jupyter": {
     "outputs_hidden": false
    },
    "papermill": {
     "duration": 0.61827,
     "end_time": "2020-08-20T04:26:56.470550",
     "exception": false,
     "start_time": "2020-08-20T04:26:55.852280",
     "status": "completed"
    },
    "pycharm": {
     "name": "#%%\n"
    },
    "tags": []
   },
   "outputs": [],
   "source": [
    "# Create a day variable from the date variable\n",
    "case_df = case_df.assign(\n",
    "    days=(case_df[\"date\"] - case_df[\"date\"].min()).dt.days\n",
    ")\n",
    "\n",
    "# Trim up to but not including day 30\n",
    "case_df = case_df[case_df[\"days\"].ge(30)]\n",
    "\n",
    "# Reverse order (highest to lowest day)\n",
    "case_df = case_df.sort_values(\"days\", ascending=False)\n",
    "\n",
    "# Replace incorrect values with missing values\n",
    "while case_df[\"confirmed\"].pct_change().gt(0).any():\n",
    "    case_df.loc[\n",
    "        case_df[\"confirmed\"].pct_change().gt(0),\n",
    "        \"confirmed\",\n",
    "    ] = np.nan\n",
    "\n",
    "# Replace missing values with previous values\n",
    "case_df.assign(\n",
    "    confirmed=case_df[\"confirmed\"].ffill()\n",
    ")\n",
    "\n",
    "# Restore the original order (lowest to highest day)\n",
    "case_df = case_df.sort_values([\"countyFIPS\", \"days\"])\n",
    "\n",
    "case_df = case_df.assign(\n",
    "    # Calculate new cases from confirmed cases\n",
    "    new_cases=case_df[\"confirmed\"]\n",
    "    .diff()\n",
    "    .fillna(0)\n",
    ")"
   ]
  },
  {
   "cell_type": "markdown",
   "metadata": {
    "execution": {
     "iopub.execute_input": "2020-08-20T02:02:56.440754Z",
     "iopub.status.busy": "2020-08-20T02:02:56.440076Z",
     "iopub.status.idle": "2020-08-20T02:02:58.800419Z",
     "shell.execute_reply": "2020-08-20T02:02:58.800863Z"
    },
    "jupyter": {
     "outputs_hidden": false
    },
    "papermill": {
     "duration": 0.009925,
     "end_time": "2020-08-20T04:26:56.491490",
     "exception": false,
     "start_time": "2020-08-20T04:26:56.481565",
     "status": "completed"
    },
    "pycharm": {
     "name": "#%%\n"
    },
    "tags": []
   },
   "source": [
    "# Read in county population data"
   ]
  },
  {
   "cell_type": "code",
   "execution_count": 9,
   "metadata": {
    "collapsed": false,
    "jupyter": {
     "outputs_hidden": false
    },
    "papermill": {
     "duration": 2.068015,
     "end_time": "2020-08-20T04:26:58.569381",
     "exception": false,
     "start_time": "2020-08-20T04:26:56.501366",
     "status": "completed"
    },
    "pycharm": {
     "name": "#%%\n"
    },
    "tags": []
   },
   "outputs": [],
   "source": [
    "cens_df = pd.read_csv(\n",
    "    \"https://www2.census.gov/programs-surveys/popest/datasets/\"\n",
    "    \"2010-2019/counties/totals/co-est2019-alldata.csv\",\n",
    "    usecols=[\n",
    "        \"STATE\",\n",
    "        \"COUNTY\",\n",
    "        \"STNAME\",\n",
    "        \"CTYNAME\",\n",
    "        \"POPESTIMATE2019\"\n",
    "    ],\n",
    "    encoding=\"latin-1\"\n",
    ")\n",
    "\n",
    "# Combine state and county fips\n",
    "cens_df = cens_df.assign(\n",
    "    county_fips=(\n",
    "        cens_df[\"STATE\"].astype(str)\n",
    "        + cens_df[\"COUNTY\"].astype(str).str.zfill(3)\n",
    "    ).astype(int)\n",
    ")"
   ]
  },
  {
   "cell_type": "code",
   "execution_count": 10,
   "metadata": {
    "papermill": {
     "duration": 0.014291,
     "end_time": "2020-08-20T04:26:58.593584",
     "exception": false,
     "start_time": "2020-08-20T04:26:58.579293",
     "status": "completed"
    },
    "tags": []
   },
   "outputs": [],
   "source": [
    "# pop_df = pd.read_csv(\n",
    "#     \"https://usafactsstatic.blob.core.windows.net/\"\n",
    "#     \"public/data/covid-19/covid_county_population_usafacts.csv\",\n",
    "#     ).set_index(\"countyFIPS\").drop(\n",
    "#         # Remove unallocated cases (FIPS 0)\n",
    "#         0\n",
    "#     ).reset_index()\n",
    "# pop_df.head()"
   ]
  },
  {
   "cell_type": "markdown",
   "metadata": {
    "execution": {
     "iopub.execute_input": "2020-08-20T02:02:58.836688Z",
     "iopub.status.busy": "2020-08-20T02:02:58.836086Z",
     "iopub.status.idle": "2020-08-20T02:02:58.958586Z",
     "shell.execute_reply": "2020-08-20T02:02:58.959237Z"
    },
    "jupyter": {
     "outputs_hidden": false
    },
    "papermill": {
     "duration": 0.009509,
     "end_time": "2020-08-20T04:26:58.612491",
     "exception": false,
     "start_time": "2020-08-20T04:26:58.602982",
     "status": "completed"
    },
    "pycharm": {
     "name": "#%%\n"
    },
    "tags": []
   },
   "source": [
    "# Add population to case data"
   ]
  },
  {
   "cell_type": "code",
   "execution_count": 11,
   "metadata": {
    "collapsed": false,
    "jupyter": {
     "outputs_hidden": false
    },
    "papermill": {
     "duration": 0.148206,
     "end_time": "2020-08-20T04:26:58.770219",
     "exception": false,
     "start_time": "2020-08-20T04:26:58.622013",
     "status": "completed"
    },
    "pycharm": {
     "name": "#%%\n"
    },
    "tags": []
   },
   "outputs": [],
   "source": [
    "df = case_df.assign(\n",
    "    population=float(\n",
    "        cens_df.loc[\n",
    "        cens_df[\"county_fips\"] == FIPS,\n",
    "        \"POPESTIMATE2019\"\n",
    "        ]\n",
    "    )\n",
    ").set_index(\"date\")"
   ]
  },
  {
   "cell_type": "markdown",
   "metadata": {
    "jupyter": {
     "outputs_hidden": false
    },
    "papermill": {
     "duration": 0.008892,
     "end_time": "2020-08-20T04:26:47.813793",
     "exception": false,
     "start_time": "2020-08-20T04:26:47.804901",
     "status": "completed"
    },
    "pycharm": {
     "name": "#%%\n"
    },
    "tags": []
   },
   "source": [
    "# Calculate growth_rate, doubling time, beta, and Rt"
   ]
  },
  {
   "cell_type": "markdown",
   "metadata": {},
   "source": [
    "$\\Huge r = \\frac{new\\_cases_t - new\\_cases_{t-1}}{new\\_cases_{t-1}}$\n",
    "\n",
    "$\\Huge T_d=\\frac{ln(2)}{ln(r+1)}$\n",
    "\n",
    "$\\Huge \\beta=\\frac{r+\\gamma}{N}$\n",
    "\n",
    "$\\Huge R_t=e^{r\\cdot T_c}=\\frac{\\beta \\cdot N}{\\gamma}=\\frac{r + \\gamma}{\\gamma}$\n",
    "\n",
    "$\\Huge T_c=\\frac{ln(\\frac{\\beta \\cdot N}{\\gamma})}{r}=\\frac{ln(\\frac{r + \\gamma}{\\gamma})}{r}$"
   ]
  },
  {
   "cell_type": "code",
   "execution_count": 12,
   "metadata": {
    "collapsed": false,
    "jupyter": {
     "outputs_hidden": false
    },
    "pycharm": {
     "name": "#%%\n"
    }
   },
   "outputs": [
    {
     "name": "stderr",
     "output_type": "stream",
     "text": [
      "/Users/martinskarzynski/miniconda/envs/py/lib/python3.8/site-packages/pandas/core/series.py:679: RuntimeWarning: invalid value encountered in log\n",
      "  result = getattr(ufunc, method)(*inputs, **kwargs)\n",
      "/Users/martinskarzynski/miniconda/envs/py/lib/python3.8/site-packages/pandas/core/series.py:679: RuntimeWarning: divide by zero encountered in log\n",
      "  result = getattr(ufunc, method)(*inputs, **kwargs)\n"
     ]
    }
   ],
   "source": [
    "# %% Growth rate\n",
    "df = df.assign(\n",
    "    susceptible=df[\"population\"] - (df[\"confirmed\"] * 10),\n",
    "    gr=df[\"new_cases\"].pct_change() / df[\"days\"].diff(),\n",
    ")\n",
    "\n",
    "# Remove infinite and missing growth rates \n",
    "df[\"gr\"] = df[\"gr\"].replace([np.inf, -np.inf], np.nan)\n",
    "df = df.dropna(subset=[\"gr\"])\n",
    "\n",
    "# Doubling time, beta, and Rt\n",
    "df = df.assign(\n",
    "    tc=np.log((df[\"gr\"] + GAMMA) / GAMMA) / df[\"gr\"],\n",
    "    dt=np.log(2) / np.log(df[\"gr\"] + 1),\n",
    "    beta=(df[\"gr\"] + GAMMA) / df[\"susceptible\"],\n",
    ")\n",
    "\n",
    "# If growth rate is zero, Rt = e^0 = 1, regardless of the value of Tc\n",
    "df.loc[df[\"gr\"]==0, \"tc\"] = 0\n",
    "\n",
    "df = df.assign(\n",
    "    # Calculate 7-day moving average of growth rate\n",
    "    smooth_gr=df[\"gr\"].rolling(\n",
    "        window=7,\n",
    "        min_periods=1\n",
    "    ).mean(),\n",
    "    # Calculate 7-day moving average of mean generation interval\n",
    "    smooth_tc=df[\"tc\"].rolling(\n",
    "        window=7,\n",
    "        min_periods=1\n",
    "    ).mean(),\n",
    ")\n",
    "\n",
    "df[\"e^r\"] = np.exp(df[\"gr\"])\n",
    "df[\"e^smooth_r\"] = np.exp(df[\"smooth_gr\"])\n",
    "df[\"r+gamma\"] = df[\"gr\"]+GAMMA\n",
    "\n",
    "df = df.assign(\n",
    "    smooth_dt=np.log(2) / np.log(df[\"smooth_gr\"] + 1),\n",
    "    smooth_beta=(df[\"smooth_gr\"] + GAMMA) / df[\"susceptible\"],\n",
    "    new_rt=np.exp(df[\"gr\"]*df[\"tc\"]),\n",
    "    old_rt=(df[\"gr\"] + GAMMA) / GAMMA,\n",
    "    new_smooth_rt=np.exp(df[\"smooth_gr\"]*df[\"smooth_tc\"]),\n",
    "    old_smooth_rt=(df[\"smooth_gr\"] + GAMMA) / GAMMA,\n",
    ")"
   ]
  },
  {
   "cell_type": "markdown",
   "metadata": {
    "execution": {
     "iopub.execute_input": "2020-08-20T02:02:59.059208Z",
     "iopub.status.busy": "2020-08-20T02:02:59.058555Z",
     "iopub.status.idle": "2020-08-20T02:02:59.062796Z",
     "shell.execute_reply": "2020-08-20T02:02:59.063201Z"
    },
    "papermill": {
     "duration": 0.010323,
     "end_time": "2020-08-20T04:26:58.904235",
     "exception": false,
     "start_time": "2020-08-20T04:26:58.893912",
     "status": "completed"
    },
    "tags": []
   },
   "source": [
    "# Run the model using the provided betas and start dates"
   ]
  },
  {
   "cell_type": "code",
   "execution_count": 13,
   "metadata": {
    "papermill": {
     "duration": 0.020255,
     "end_time": "2020-08-20T04:26:58.934113",
     "exception": false,
     "start_time": "2020-08-20T04:26:58.913858",
     "status": "completed"
    },
    "tags": []
   },
   "outputs": [],
   "source": [
    "sir1 = pd.DataFrame(\n",
    "    sir(\n",
    "        susceptible=df.loc[START_DATE, \"population\"],\n",
    "        infected=df.loc[START_DATE, \"confirmed\"],\n",
    "        recovered=0,\n",
    "        beta=beta_1 if beta_1 else df.loc[START_DATE, \"smooth_beta\"],\n",
    "        gamma=GAMMA,\n",
    "        start=START_DAY,\n",
    "        stop=FORECAST_DAYS_1\n",
    "    ),\n",
    "    columns=[\"day\", \"susceptible\", \"infected\", \"recovered\"]\n",
    ").assign(\n",
    "    date=pd.date_range(START_DATE, periods=FORECAST_DAYS_1 + 1).date\n",
    ").set_index(\"date\")"
   ]
  },
  {
   "cell_type": "code",
   "execution_count": 14,
   "metadata": {
    "papermill": {
     "duration": 0.020255,
     "end_time": "2020-08-20T04:26:58.934113",
     "exception": false,
     "start_time": "2020-08-20T04:26:58.913858",
     "status": "completed"
    },
    "tags": []
   },
   "outputs": [],
   "source": [
    "sir2 = pd.DataFrame(\n",
    "    sir(\n",
    "        susceptible=sir1.loc[STOP_DATE, \"susceptible\"],\n",
    "        infected=sir1.loc[STOP_DATE, \"infected\"],\n",
    "        recovered=sir1.loc[STOP_DATE, \"recovered\"],\n",
    "        beta=beta_2 if beta_2 else df.loc[STOP_DATE, \"smooth_beta\"],\n",
    "        gamma=GAMMA,\n",
    "        start=FORECAST_DAYS_1,\n",
    "        stop=FORECAST_DAYS_1 + FORECAST_DAYS_2 \n",
    "    ),\n",
    "    columns=[\"day\", \"susceptible\", \"infected\", \"recovered\"]\n",
    ").assign(\n",
    "    date=pd.date_range(\n",
    "        STOP_DATE,\n",
    "        periods=FORECAST_DAYS_2 + 1\n",
    "    ).date\n",
    ").set_index(\"date\")\n",
    "\n",
    "sir_df = pd.concat([sir1, sir2])\n",
    "sir_df.to_csv(OUTPUT_FILE_NAME, index=False)"
   ]
  }
 ],
 "metadata": {
  "kernelspec": {
   "display_name": "Python 3",
   "language": "python",
   "name": "python3"
  },
  "language_info": {
   "codemirror_mode": {
    "name": "ipython",
    "version": 3
   },
   "file_extension": ".py",
   "mimetype": "text/x-python",
   "name": "python",
   "nbconvert_exporter": "python",
   "pygments_lexer": "ipython3",
   "version": "3.8.2"
  },
  "papermill": {
   "duration": 7.947059,
   "end_time": "2020-08-20T04:26:59.275462",
   "environment_variables": {},
   "exception": null,
   "input_path": "sir.ipynb",
   "output_path": "sir.ipynb",
   "parameters": {
    "BETA_PERCENTILE": 50,
    "FIPS": 17031,
    "START_DATE": "2020-03-13"
   },
   "start_time": "2020-08-20T04:26:51.328403",
   "version": "2.1.2"
  }
 },
 "nbformat": 4,
 "nbformat_minor": 4
}
