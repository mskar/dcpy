{
 "cells": [
  {
   "cell_type": "code",
   "execution_count": 1,
   "metadata": {
    "jupyter": {
     "outputs_hidden": false
    },
    "pycharm": {
     "name": "#%%\n"
    }
   },
   "outputs": [],
   "source": [
    "# Imports\n",
    "from typing import Iterator, Tuple\n",
    "\n",
    "import numpy as np\n",
    "import pandas as pd"
   ]
  },
  {
   "cell_type": "code",
   "execution_count": 2,
   "metadata": {
    "tags": [
     "parameters"
    ]
   },
   "outputs": [],
   "source": [
    "# Variables\n",
    "START_DATE = pd.to_datetime(\"2020-06-07\")\n",
    "TODAY = pd.Timestamp.today().date()\n",
    "FIPS = 48029\n",
    "BETA = None\n",
    "BETA_MULTIPLIER = .475\n",
    "GAMMA = 1/7\n",
    "START_DAY = 0\n",
    "STOP_DAY = 100"
   ]
  },
  {
   "cell_type": "code",
   "execution_count": 3,
   "metadata": {
    "tags": [
     "parameters"
    ]
   },
   "outputs": [],
   "source": [
    "FILE_NAME = f\"{START_DATE.date()}_{TODAY}_{FIPS}_{BETA}_{BETA_MULTIPLIER}_sir-model-output\""
   ]
  },
  {
   "cell_type": "code",
   "execution_count": 4,
   "metadata": {
    "jupyter": {
     "outputs_hidden": false
    },
    "pycharm": {
     "name": "#%%\n"
    }
   },
   "outputs": [],
   "source": [
    "# Read in usafacts data\n",
    "case_df = pd.read_csv(\n",
    "    \"https://usafactsstatic.blob.core.windows.net/\"\n",
    "    \"public/data/covid-19/covid_confirmed_usafacts.csv\",\n",
    ").set_index(\"countyFIPS\").drop(\n",
    "    # Remove unallocated cases (FIPS 0 or 1)\n",
    "    range(2)\n",
    ").reset_index().melt(\n",
    "    # Melt dataframe (wide to long format)\n",
    "    id_vars=[\"countyFIPS\", \"County Name\", \"State\", \"StateFIPS\"],\n",
    "    value_name=\"confirmed\",\n",
    "    var_name=\"date\",\n",
    ").astype({\"date\": \"datetime64\"})"
   ]
  },
  {
   "cell_type": "code",
   "execution_count": 5,
   "metadata": {
    "jupyter": {
     "outputs_hidden": false
    },
    "pycharm": {
     "name": "#%%\n"
    }
   },
   "outputs": [],
   "source": [
    "# Create a day variable from the date variable\n",
    "case_df = case_df.assign(\n",
    "    days=(case_df[\"date\"] - case_df[\"date\"].min()).dt.days\n",
    ")\n",
    "\n",
    "# Trim up to but not including day 30\n",
    "case_df = case_df[case_df[\"days\"].ge(30)]\n",
    "\n",
    "# Reverse order (highest to lowest day)\n",
    "case_df = case_df.sort_values([\"countyFIPS\", \"days\"], ascending=False)\n",
    "\n",
    "# Replace incorrect values with missing values\n",
    "while case_df.groupby(\"countyFIPS\")[\"confirmed\"].pct_change().gt(0).any():\n",
    "    case_df.loc[\n",
    "        case_df.groupby(\"countyFIPS\")[\"confirmed\"].pct_change().gt(0),\n",
    "        \"confirmed\",\n",
    "    ] = np.nan\n",
    "\n",
    "# Replace missing values with previous values\n",
    "case_df.assign(\n",
    "    confirmed=case_df[\"confirmed\"].ffill()\n",
    ")\n",
    "\n",
    "# Restore the original order (lowest to highest day)\n",
    "case_df = case_df.sort_values([\"countyFIPS\", \"days\"])\n",
    "\n",
    "case_df = case_df.assign(\n",
    "    # Calculate new cases from confirmed cases\n",
    "    new_cases=case_df.groupby(\"countyFIPS\")[\"confirmed\"]\n",
    "    .diff()\n",
    "    .fillna(0)\n",
    ")"
   ]
  },
  {
   "cell_type": "code",
   "execution_count": 6,
   "metadata": {
    "jupyter": {
     "outputs_hidden": false
    },
    "pycharm": {
     "name": "#%%\n"
    }
   },
   "outputs": [],
   "source": [
    "# Read in population data\n",
    "cens_df = pd.read_csv(\n",
    "    \"https://www2.census.gov/programs-surveys/popest/datasets/\"\n",
    "    \"2010-2019/counties/totals/co-est2019-alldata.csv\",\n",
    "    usecols=[\n",
    "        \"STATE\",\n",
    "        \"COUNTY\",\n",
    "        \"STNAME\",\n",
    "        \"CTYNAME\",\n",
    "        \"POPESTIMATE2019\"\n",
    "    ],\n",
    "    encoding=\"latin-1\"\n",
    ")\n",
    "\n",
    "# Combine state and county fips\n",
    "cens_df = cens_df.assign(\n",
    "    county_fips=(\n",
    "        cens_df[\"STATE\"].astype(str)\n",
    "        + cens_df[\"COUNTY\"].astype(str).str.zfill(3)\n",
    "    ).astype(int)\n",
    ")"
   ]
  },
  {
   "cell_type": "code",
   "execution_count": 7,
   "metadata": {},
   "outputs": [],
   "source": [
    "# pop_df = pd.read_csv(\n",
    "#     \"https://usafactsstatic.blob.core.windows.net/\"\n",
    "#     \"public/data/covid-19/covid_county_population_usafacts.csv\",\n",
    "#     ).set_index(\"countyFIPS\").drop(\n",
    "#         # Remove unallocated cases (FIPS 0)\n",
    "#         0\n",
    "#     ).reset_index()\n",
    "# pop_df.head()"
   ]
  },
  {
   "cell_type": "code",
   "execution_count": 8,
   "metadata": {
    "jupyter": {
     "outputs_hidden": false
    },
    "pycharm": {
     "name": "#%%\n"
    }
   },
   "outputs": [],
   "source": [
    "# Merge data files\n",
    "df = case_df.merge(\n",
    "    cens_df,\n",
    "    left_on=\"countyFIPS\",\n",
    "    right_on=\"county_fips\",\n",
    "    how=\"left\"\n",
    ")"
   ]
  },
  {
   "cell_type": "code",
   "execution_count": 9,
   "metadata": {
    "jupyter": {
     "outputs_hidden": false
    },
    "pycharm": {
     "name": "#%%\n"
    }
   },
   "outputs": [],
   "source": [
    "# Calculate model inputs\n",
    "\n",
    "# Growth rate\n",
    "df = df.assign(\n",
    "    gr=df.groupby(\"countyFIPS\")[\"confirmed\"].pct_change()\n",
    "       / df.groupby(\"countyFIPS\")[\"days\"].diff()\n",
    ")\n",
    "\n",
    "# Calculate 7-day moving average of growth rate\n",
    "df = df.assign(\n",
    "    smooth_gr=df.groupby(\"countyFIPS\")\n",
    "    .rolling(window=7, min_periods=1)[\"gr\"]\n",
    "    .mean()\n",
    "    .reset_index(level=0, drop=True)\n",
    ")\n",
    "\n",
    "# Calculate a rolling mean of new cases added in the previous 7 days\n",
    "df = df.assign(\n",
    "    seven_day_new_cases = df.groupby(\"countyFIPS\")\n",
    "    .rolling(window=7, min_periods=1)[\"new_cases\"]\n",
    "    .mean()\n",
    "    .reset_index(level=0, drop=True)\n",
    ")\n",
    "\n",
    "# Doubling time and beta\n",
    "df = df.assign(\n",
    "    dt=np.log(2) / np.log(df[\"gr\"] + 1),\n",
    "    smooth_dt=np.log(2) / np.log(df[\"smooth_gr\"] + 1),\n",
    "    beta=(df[\"gr\"] + GAMMA) / df[\"POPESTIMATE2019\"],\n",
    "    smooth_beta=(df[\"smooth_gr\"] + GAMMA) / df[\"POPESTIMATE2019\"],\n",
    ")\n",
    "\n",
    "# Rt\n",
    "df = df.assign(\n",
    "    rt=df[\"beta\"] / GAMMA * df[\"POPESTIMATE2019\"],\n",
    "    smooth_rt=df[\"smooth_beta\"] / GAMMA * df[\"POPESTIMATE2019\"],\n",
    ")"
   ]
  },
  {
   "cell_type": "code",
   "execution_count": 29,
   "metadata": {},
   "outputs": [],
   "source": [
    "susceptible = 10000\n",
    "beta = 1e-8\n",
    "infected = 30\n",
    "new_infected = np.random.binomial(susceptible, beta*infected, susceptible).sum()"
   ]
  },
  {
   "cell_type": "code",
   "execution_count": 30,
   "metadata": {},
   "outputs": [
    {
     "data": {
      "text/plain": [
       "32"
      ]
     },
     "execution_count": 30,
     "metadata": {},
     "output_type": "execute_result"
    }
   ],
   "source": [
    "new_infected"
   ]
  },
  {
   "cell_type": "code",
   "execution_count": 49,
   "metadata": {},
   "outputs": [
    {
     "data": {
      "text/plain": [
       "'a1b2'"
      ]
     },
     "execution_count": 49,
     "metadata": {},
     "output_type": "execute_result"
    }
   ],
   "source": [
    "x"
   ]
  },
  {
   "cell_type": "code",
   "execution_count": 10,
   "metadata": {
    "jupyter": {
     "outputs_hidden": false
    },
    "pycharm": {
     "name": "#%%\n"
    }
   },
   "outputs": [],
   "source": [
    "# Define sir function\n",
    "def sim_sir(\n",
    "        susceptible: int,\n",
    "        infected: int,\n",
    "        recovered: int,\n",
    "        new_infected: int,\n",
    "        new_recovered: int,\n",
    "        beta: float,\n",
    "        gamma: float = 1 / 7,\n",
    "        case_adjustment_factor: float = 10,\n",
    "        start: int = 0,\n",
    "        stop: int = 90\n",
    ") -> Iterator[Tuple[\n",
    "    int,\n",
    "    float,\n",
    "    float,\n",
    "    float,\n",
    "    float,\n",
    "    float,\n",
    "    float,\n",
    "]]:\n",
    "    \"\"\"\n",
    "    Calculate the number of susceptible people and incidence and prevalence\n",
    "    of infection and recovery in a population based on initial values.\n",
    "\n",
    "    Core SIR model function that forecasts new\n",
    "    - susceptible (S),\n",
    "    - infected (I), and\n",
    "    - recovered (R) values\n",
    "\n",
    "    Arguments:\n",
    "        susceptible: Initial number of susceptible people.\n",
    "        total_infected: Initial number of total confirmed infections.\n",
    "        total_recovered: Initial number of people who have recovered.\n",
    "        new_infected: Initial number of new infections.\n",
    "        new_recovered: Initial number of newly recovered individuals.\n",
    "        beta: The effective contact rate during social distancing.\n",
    "            BETA = (GROWTH_RATE + GAMMA) / SUSCEPTIBLE\n",
    "        gamma: The inverse of the recovery length, e.g.\n",
    "            RECOVERY_TIME = 7\n",
    "            GAMMA = 1 / RECOVERY_TIME\n",
    "        case_adjustment_factor: A multiplier to estimate the true case count.\n",
    "            Under-reporting of cases is common because many are asymptomatic.\n",
    "            The case adjustment factor compensates for under-reporting.\n",
    "        start: The day for which initial values are provided, e.g. day 0.\n",
    "        stop: The total number of days to forecast (daily projections).\n",
    "\n",
    "    Yields:\n",
    "        Collected values across each day from start to end.\n",
    "        1. day\n",
    "        2. susceptible\n",
    "        3. total infected (infected prevalence)\n",
    "        4. total recovered (recovered prevalence)\n",
    "        5. new cases (infected incidence)\n",
    "        6. newly recovered individuals (recovered incidence)\n",
    "    \"\"\"\n",
    "    # Yield initial values\n",
    "    yield (\n",
    "        start,\n",
    "        susceptible,\n",
    "        infected,\n",
    "        recovered,\n",
    "        new_infected,\n",
    "        new_recovered,\n",
    "        beta\n",
    "    )\n",
    "    # Iterate over days and yield model outputs\n",
    "    for day in range(start + 1, stop + 1):\n",
    "        # New confirmed infections (new positive tests)\n",
    "        infected_incidence = np.random.binomial(susceptible, beta*infected, susceptible).sum()\n",
    "        # Number of infected who have just recovered\n",
    "        recovered_incidence = gamma * total_infected\n",
    "        # Number of people who are susceptible as of this time point\n",
    "        susceptible_new = (\n",
    "                susceptible\n",
    "                - case_adjustment_factor\n",
    "                * infected_incidence\n",
    "        )\n",
    "        # Total number of people who are infected as of this time point\n",
    "        infected_prevalence = (\n",
    "                infected_incidence\n",
    "                + total_infected\n",
    "                - recovered_incidence\n",
    "        )\n",
    "        # Total number of people who have recovered as of this time point\n",
    "        recovered_prevalence = (\n",
    "                recovered_incidence\n",
    "                + total_recovered\n",
    "                + infected_incidence * max(1., case_adjustment_factor - 1)\n",
    "        )\n",
    "        yield (\n",
    "            day,\n",
    "            susceptible_new,\n",
    "            infected_prevalence,\n",
    "            recovered_prevalence,\n",
    "            infected_incidence,\n",
    "            recovered_incidence,\n",
    "            beta\n",
    "        )\n",
    "        susceptible, total_infected, total_recovered = (\n",
    "            susceptible_new, infected_prevalence, recovered_prevalence\n",
    "        )"
   ]
  },
  {
   "cell_type": "code",
   "execution_count": 11,
   "metadata": {
    "jupyter": {
     "outputs_hidden": false
    },
    "pycharm": {
     "name": "#%%\n"
    }
   },
   "outputs": [],
   "source": [
    "# Pick county and start date - Model Lever 1 and 2\n",
    "county = df[\"countyFIPS\"] == FIPS\n",
    "start_date = df[\"date\"] == START_DATE\n",
    "\n",
    "# Get model inputs\n",
    "county_df = df[county].set_index(\"date\")"
   ]
  },
  {
   "cell_type": "code",
   "execution_count": 12,
   "metadata": {},
   "outputs": [],
   "source": [
    "# Get historical confirmed from day 0 onward\n",
    "historical = df[county]\n",
    "historical.to_excel(f\"{TODAY}_{FIPS}_history.xlsx\")"
   ]
  },
  {
   "cell_type": "code",
   "execution_count": 52,
   "metadata": {},
   "outputs": [],
   "source": [
    "# Concatenate a and b\n",
    "# If both are empty, None\n",
    "a, b = \"a\", \"b\"\n",
    "x = y if (y := a + b) else None"
   ]
  },
  {
   "cell_type": "code",
   "execution_count": 53,
   "metadata": {},
   "outputs": [
    {
     "data": {
      "text/plain": [
       "'a12b23'"
      ]
     },
     "execution_count": 53,
     "metadata": {},
     "output_type": "execute_result"
    }
   ],
   "source": [
    "x"
   ]
  },
  {
   "cell_type": "code",
   "execution_count": 13,
   "metadata": {},
   "outputs": [],
   "source": [
    "# Create sir output dataframe\n",
    "sir_df = pd.DataFrame(\n",
    "    sir(\n",
    "        susceptible=county_df.loc[START_DATE, \"POPESTIMATE2019\"],\n",
    "        total_infected=county_df.loc[START_DATE, \"confirmed\"],\n",
    "        total_recovered=0,\n",
    "        new_infected=0,\n",
    "        new_recovered=0,\n",
    "        beta=(BETA if BETA else county_df.loc[START_DATE, \"smooth_beta\"]) * BETA_MULTIPLIER,\n",
    "        gamma=GAMMA,\n",
    "        start=START_DAY,\n",
    "        stop=STOP_DAY\n",
    "    ),\n",
    "    columns=(\n",
    "        \"forecast_days\",\n",
    "        \"susceptible\",\n",
    "        \"total_infected\",\n",
    "        \"total_recovered\",\n",
    "        \"infected_incidence\",\n",
    "        \"new_recovered\",\n",
    "        \"input_beta\"\n",
    "    )\n",
    ").assign(\n",
    "    start_date=START_DATE,\n",
    ")"
   ]
  },
  {
   "cell_type": "code",
   "execution_count": 14,
   "metadata": {},
   "outputs": [],
   "source": [
    "sir_df = sir_df.assign(\n",
    "    date=START_DATE + pd.to_timedelta(sir_df['forecast_days'], unit='d'),\n",
    "    confirmed_forecast=sir_df[\"susceptible\"][0]-sir_df[\"susceptible\"]+sir_df[\"total_infected\"][0]\n",
    ")"
   ]
  },
  {
   "cell_type": "code",
   "execution_count": 15,
   "metadata": {},
   "outputs": [],
   "source": [
    "# merge sir and historical\n",
    "df = historical.set_index(\"date\").join(sir_df.set_index(\"date\"))"
   ]
  },
  {
   "cell_type": "code",
   "execution_count": 16,
   "metadata": {},
   "outputs": [],
   "source": [
    "df = df.assign(loss=df[\"new_cases\"].subtract(df[\"infected_incidence\"]))\n",
    "df = df.assign(mse=df[\"loss\"].pow(2).mean())\n",
    "df = df.assign(rmse=df[\"mse\"].pow(.5))"
   ]
  },
  {
   "cell_type": "code",
   "execution_count": 19,
   "metadata": {},
   "outputs": [],
   "source": [
    "df.to_excel(f\"{FILE_NAME}.xlsx\")\n",
    "df.to_csv(f\"{FILE_NAME}.csv\", index=False)"
   ]
  },
  {
   "cell_type": "code",
   "execution_count": 17,
   "metadata": {},
   "outputs": [],
   "source": [
    "def solve_sir(data, beta, gamma, s0, i0, r0):\n",
    "    \"\"\"\n",
    "    RMSE between actual confirmed cases and the estimated infectious people with given beta and gamma.\n",
    "    \"\"\"\n",
    "    size = \n",
    "    def SIR(t, y):\n",
    "        S, I, R = y\n",
    "        return [-beta*S*I, beta*S*I-gamma*I, gamma*I]\n",
    "    return solve_ivp(SIR, [0, size], [S_0,I_0,R_0], t_eval=np.arange(0, size, 1), vectorized=True)\n",
    "    size = len(data)\n",
    "    def sir(s, i, r):\n",
    "        return [-beta*s*i, beta*s*i-gamma*i, gamma*i]\n",
    "    solution = solve_ivp(sir, [0, size], [s0, i0, r0], t_eval=np.arange(0, size, 1), vectorized=True)\n",
    "    \n",
    "def get_loss(beta, gamma, data, s0, i0, r0):\n",
    "    return np.sqrt(np.mean((solve_sir(beta, gamma, data, s0, i0, r0).y[1] - data)**2))\n",
    "\n",
    "# TODO use curve_fit to find best beta and gamma\n",
    "def get_best_params(beta, gamma, data, s0, i0, r0):\n",
    "    return optimize.curve_fit(solve_sir, xdata, ydata)"
   ]
  },
  {
   "cell_type": "code",
   "execution_count": null,
   "metadata": {},
   "outputs": [],
   "source": [
    "solve_sir()"
   ]
  }
 ],
 "metadata": {
  "kernelspec": {
   "display_name": "Python 3",
   "language": "python",
   "name": "python3"
  },
  "language_info": {
   "codemirror_mode": {
    "name": "ipython",
    "version": 3
   },
   "file_extension": ".py",
   "mimetype": "text/x-python",
   "name": "python",
   "nbconvert_exporter": "python",
   "pygments_lexer": "ipython3",
   "version": "3.9.1"
  }
 },
 "nbformat": 4,
 "nbformat_minor": 4
}
