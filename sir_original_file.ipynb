{
 "cells": [
  {
   "cell_type": "code",
   "execution_count": 1,
   "metadata": {
    "collapsed": false,
    "jupyter": {
     "outputs_hidden": false
    },
    "pycharm": {
     "name": "#%%\n"
    }
   },
   "outputs": [],
   "source": [
    "# Imports\n",
    "import numpy as np\n",
    "import pandas as pd"
   ]
  },
  {
   "cell_type": "code",
   "execution_count": 2,
   "metadata": {
    "collapsed": false,
    "jupyter": {
     "outputs_hidden": false
    },
    "pycharm": {
     "name": "#%%\n"
    }
   },
   "outputs": [],
   "source": [
    "# Read in usafacts data\n",
    "case_df = pd.read_csv(\n",
    "    \"https://usafactsstatic.blob.core.windows.net/\"\n",
    "    \"public/data/covid-19/covid_confirmed_usafacts.csv\",\n",
    ").set_index(\"countyFIPS\").drop(\n",
    "    # Remove unallocated cases (FIPS 0 or 1)\n",
    "    range(2)\n",
    ").reset_index().melt(\n",
    "    # Melt dataframe (wide to long format)\n",
    "    id_vars=[\"countyFIPS\", \"County Name\", \"State\", \"stateFIPS\"],\n",
    "    value_name=\"confirmed\",\n",
    "    var_name=\"date\",\n",
    ").astype({\"date\": \"datetime64\"})"
   ]
  },
  {
   "cell_type": "code",
   "execution_count": 3,
   "metadata": {
    "collapsed": false,
    "jupyter": {
     "outputs_hidden": false
    },
    "pycharm": {
     "name": "#%%\n"
    }
   },
   "outputs": [],
   "source": [
    "# Create a day variable from the date variable\n",
    "case_df = case_df.assign(\n",
    "    days=(case_df[\"date\"] - case_df[\"date\"].min()).dt.days\n",
    ")\n",
    "\n",
    "# Trim up to but not including day 30\n",
    "case_df = case_df[case_df[\"days\"].ge(30)]\n",
    "\n",
    "# Reverse order (highest to lowest day)\n",
    "case_df = case_df.sort_values([\"countyFIPS\", \"days\"], ascending=False)\n",
    "\n",
    "# Replace incorrect values with missing values\n",
    "while case_df.groupby(\"countyFIPS\")[\"confirmed\"].pct_change().gt(0).any():\n",
    "    case_df.loc[\n",
    "        case_df.groupby(\"countyFIPS\")[\"confirmed\"].pct_change().gt(0),\n",
    "        \"confirmed\",\n",
    "    ] = np.nan\n",
    "\n",
    "# Replace missing values with previous values\n",
    "case_df.assign(\n",
    "    confirmed=case_df[\"confirmed\"].ffill()\n",
    ")\n",
    "\n",
    "# Restore the original order (lowest to highest day)\n",
    "case_df = case_df.sort_values([\"countyFIPS\", \"days\"])\n",
    "\n",
    "case_df = case_df.assign(\n",
    "    # Calculate new cases from confirmed cases\n",
    "    new_cases=case_df.groupby(\"countyFIPS\")[\"confirmed\"]\n",
    "    .diff()\n",
    "    .fillna(0)\n",
    ")"
   ]
  },
  {
   "cell_type": "code",
   "execution_count": 4,
   "metadata": {
    "collapsed": false,
    "jupyter": {
     "outputs_hidden": false
    },
    "pycharm": {
     "name": "#%%\n"
    }
   },
   "outputs": [],
   "source": [
    "# Read in population data\n",
    "cens_df = pd.read_csv(\n",
    "    \"https://www2.census.gov/programs-surveys/popest/datasets/\"\n",
    "    \"2010-2019/counties/totals/co-est2019-alldata.csv\",\n",
    "    usecols=[\n",
    "        \"STATE\",\n",
    "        \"COUNTY\",\n",
    "        \"STNAME\",\n",
    "        \"CTYNAME\",\n",
    "        \"POPESTIMATE2019\"\n",
    "    ],\n",
    "    encoding=\"latin-1\"\n",
    ")\n",
    "\n",
    "# Combine state and county fips\n",
    "cens_df = cens_df.assign(\n",
    "    county_fips=(\n",
    "        cens_df[\"STATE\"].astype(str)\n",
    "        + cens_df[\"COUNTY\"].astype(str).str.zfill(3)\n",
    "    ).astype(int)\n",
    ")"
   ]
  },
  {
   "cell_type": "code",
   "execution_count": 5,
   "metadata": {
    "collapsed": false,
    "jupyter": {
     "outputs_hidden": false
    },
    "pycharm": {
     "name": "#%%\n"
    }
   },
   "outputs": [],
   "source": [
    "# Merge data files\n",
    "df = case_df.merge(\n",
    "    cens_df,\n",
    "    left_on=\"countyFIPS\",\n",
    "    right_on=\"county_fips\",\n",
    "    how=\"left\"\n",
    ")"
   ]
  },
  {
   "cell_type": "code",
   "execution_count": 6,
   "metadata": {
    "collapsed": false,
    "jupyter": {
     "outputs_hidden": false
    },
    "pycharm": {
     "name": "#%%\n"
    }
   },
   "outputs": [],
   "source": [
    "# Calculate model inputs\n",
    "GAMMA = 1/7\n",
    "# Growth rate\n",
    "df = df.assign(\n",
    "    gr=df.groupby(\"countyFIPS\")[\"confirmed\"].pct_change()\n",
    "       / df.groupby(\"countyFIPS\")[\"days\"].diff()\n",
    ")\n",
    "# Calculate 7-day moving average of growth rate\n",
    "df = df.assign(\n",
    "    smooth_gr=df.groupby(\"countyFIPS\")\n",
    "    .rolling(window=7, min_periods=1)[\"gr\"]\n",
    "    .mean()\n",
    "    .reset_index(level=0, drop=True)\n",
    ")\n",
    "\n",
    "# Doubling time and beta\n",
    "df = df.assign(\n",
    "    dt=np.log(2) / np.log(df[\"gr\"] + 1),\n",
    "    smooth_dt=np.log(2) / np.log(df[\"smooth_gr\"] + 1),\n",
    "    beta=(df[\"gr\"] + GAMMA) / df[\"POPESTIMATE2019\"],\n",
    "    smooth_beta=(df[\"smooth_gr\"] + GAMMA) / df[\"POPESTIMATE2019\"],\n",
    ")\n",
    "\n",
    "# Rt\n",
    "df = df.assign(\n",
    "    rt=df[\"beta\"] / GAMMA * df[\"POPESTIMATE2019\"],\n",
    "    smooth_rt=df[\"smooth_beta\"] / GAMMA * df[\"POPESTIMATE2019\"],\n",
    ")"
   ]
  },
  {
   "cell_type": "code",
   "execution_count": 7,
   "metadata": {
    "collapsed": false,
    "jupyter": {
     "outputs_hidden": false
    },
    "pycharm": {
     "name": "#%%\n"
    }
   },
   "outputs": [],
   "source": [
    "# Define sir function\n",
    "from typing import Iterator, Tuple, Dict\n",
    "\n",
    "import numpy as np\n",
    "\n",
    "def sir(\n",
    "        susceptible: int,\n",
    "        total_infected: int,\n",
    "        total_recovered: int,\n",
    "        new_infected: int,\n",
    "        new_recovered: int,\n",
    "        beta: float,\n",
    "        doubling_time: float,\n",
    "        growth_rate: float,\n",
    "        r_naught: float,\n",
    "        gamma: float = 1 / 7,\n",
    "        case_adjustment_factor: float = 10,\n",
    "        start: int = 0,\n",
    "        stop: int = 90\n",
    ") -> Iterator[Tuple[\n",
    "    int,\n",
    "    float,\n",
    "    float,\n",
    "    float,\n",
    "    float,\n",
    "    float,\n",
    "    float,\n",
    "    float,\n",
    "    float,\n",
    "    float\n",
    "]]:\n",
    "    \"\"\"\n",
    "    Calculate the number of susceptible people and incidence and prevalence\n",
    "    of infection and recovery in a population based on initial values.\n",
    "\n",
    "    Core SIR model function that forecasts new\n",
    "    - susceptible (S),\n",
    "    - infected (I), and\n",
    "    - recovered (R) values\n",
    "\n",
    "    Arguments:\n",
    "        susceptible: Initial number of susceptible people.\n",
    "        total_infected: Initial number of total confirmed infections.\n",
    "        total_recovered: Initial number of people who have recovered.\n",
    "        new_infected: Initial number of new infections.\n",
    "        new_recovered: Initial number of newly recovered individuals.\n",
    "        beta: The effective contact rate during social distancing.\n",
    "            BETA = (GROWTH_RATE + GAMMA) / SUSCEPTIBLE\n",
    "        growth_rate: The rate of growth of total_cases.\n",
    "            GROWTH_RATE = BETA * SUSCEPTIBLE - GAMMA\n",
    "            GROWTH_RATE = 2 ** (1 / DOUBLING_TIME) - 1\n",
    "        doubling_time: The time required for total_cases to double.\n",
    "             DOUBLING_TIME = ln(2)/ln(GROWTH_RATE + 1)\n",
    "        r_naught: The number of people a newly infected person will infect.\n",
    "            R_NAUGHT = (GROWTH_RATE + GAMMA) / GAMMA\n",
    "            R_NAUGHT = BETA / GAMMA * SUSCEPTIBLE\n",
    "        gamma: The inverse of the recovery length, e.g.\n",
    "            RECOVERY_TIME = 7\n",
    "            GAMMA = 1 / RECOVERY_TIME\n",
    "        case_adjustment_factor: A multiplier to estimate the true case count.\n",
    "            Under-reporting of cases is common because many are asymptomatic.\n",
    "            The case adjustment factor compensates for under-reporting.\n",
    "        start: The day for which initial values are provided, e.g. day 0.\n",
    "        stop: The total number of days to forecast (daily projections).\n",
    "\n",
    "    Yields:\n",
    "        Collected values across each day from start to end.\n",
    "        1. day\n",
    "        2. susceptible\n",
    "        3. total infected (infected prevalence)\n",
    "        4. total recovered (recovered prevalence)\n",
    "        5. new cases (infected incidence)\n",
    "        6. newly recovered individuals (recovered incidence)\n",
    "        7. beta (recalculated)\n",
    "        8. doubling time (recalculated)\n",
    "        9. growth rate (recalculated)\n",
    "        10. rt (recalculated)\n",
    "    \"\"\"\n",
    "    # Yield initial values\n",
    "    yield (\n",
    "        start,\n",
    "        susceptible,\n",
    "        total_infected,\n",
    "        total_recovered,\n",
    "        new_infected,\n",
    "        new_recovered,\n",
    "        beta,\n",
    "        doubling_time,\n",
    "        growth_rate,\n",
    "        r_naught\n",
    "    )\n",
    "    # Iterate over days and yield model outputs\n",
    "    for day in range(start + 1, stop + 1):\n",
    "        # New confirmed infections (new positive tests)\n",
    "        infected_incidence = beta * total_infected * susceptible\n",
    "        # Number of infected who have just recovered\n",
    "        recovered_incidence = gamma * total_infected\n",
    "        # Number of people who are susceptible as of this time point\n",
    "        susceptible_new = (\n",
    "                susceptible\n",
    "                - case_adjustment_factor\n",
    "                * infected_incidence\n",
    "        )\n",
    "        # Total number of people who are infected as of this time point\n",
    "        infected_prevalence = (\n",
    "                infected_incidence\n",
    "                + total_infected\n",
    "                - recovered_incidence\n",
    "        )\n",
    "        # Total number of people who have recovered as of this time point\n",
    "        recovered_prevalence = (\n",
    "                recovered_incidence\n",
    "                + total_recovered\n",
    "                + infected_incidence * max(1., case_adjustment_factor - 1)\n",
    "        )\n",
    "        try:\n",
    "            doubling_time_new = (\n",
    "                    np.log(2) / np.log(infected_prevalence / total_infected)\n",
    "            )\n",
    "        except ZeroDivisionError:\n",
    "            doubling_time_new = np.nan\n",
    "        growth_rate_new = 2 ** (1 / doubling_time_new) - 1\n",
    "        beta_new = (growth_rate_new + gamma) / susceptible_new\n",
    "        rt = beta_new / gamma * susceptible_new\n",
    "        yield (\n",
    "            day,\n",
    "            susceptible_new,\n",
    "            infected_prevalence,\n",
    "            recovered_prevalence,\n",
    "            infected_incidence,\n",
    "            recovered_incidence,\n",
    "            beta_new,\n",
    "            doubling_time_new,\n",
    "            growth_rate_new,\n",
    "            rt\n",
    "        )\n",
    "        susceptible, total_infected, total_recovered = (\n",
    "            susceptible_new, infected_prevalence, recovered_prevalence\n",
    "        )"
   ]
  },
  {
   "cell_type": "code",
   "execution_count": 8,
   "metadata": {
    "collapsed": false,
    "jupyter": {
     "outputs_hidden": false
    },
    "pycharm": {
     "name": "#%%\n"
    }
   },
   "outputs": [],
   "source": [
    "# Pick county and start date\n",
    "fips = df[\"countyFIPS\"] == 36061\n",
    "date = df[\"date\"] == pd.to_datetime(\"2020-04-11\")\n",
    "\n",
    "# Get model inputs\n",
    "subset = df[fips & date]\n",
    "s = subset[\"POPESTIMATE2019\"].values[0]\n",
    "i = subset[\"confirmed\"].values[0]\n",
    "b = subset[\"smooth_beta\"].values[0]\n",
    "dt = subset[\"smooth_dt\"].values[0]\n",
    "gr = subset[\"smooth_gr\"].values[0]\n",
    "rt = subset[\"smooth_rt\"].values[0]"
   ]
  },
  {
   "cell_type": "code",
   "execution_count": 9,
   "metadata": {
    "collapsed": false,
    "jupyter": {
     "outputs_hidden": false
    },
    "pycharm": {
     "name": "#%%\n"
    }
   },
   "outputs": [],
   "source": [
    "# Create column names for the output dataframe\n",
    "output_columns = (\n",
    "        \"days\",\n",
    "        \"susceptible\",\n",
    "        \"total_infected\",\n",
    "        \"total_recovered\",\n",
    "        \"new_infected\",\n",
    "        \"new_recovered\",\n",
    "        \"beta\",\n",
    "        \"doubling_time\",\n",
    "        \"growth_rate\",\n",
    "        \"r_naught\"\n",
    ")\n",
    "\n",
    "# Pass inputs to sir function\n",
    "sir_df = pd.DataFrame(\n",
    "        sir(\n",
    "            susceptible=s,\n",
    "            total_infected=i,\n",
    "            total_recovered=0,\n",
    "            new_infected=b * i * s,\n",
    "            new_recovered=0,\n",
    "            beta=b,\n",
    "            doubling_time=dt,\n",
    "            growth_rate=gr,\n",
    "            r_naught=rt,\n",
    "            gamma=GAMMA,\n",
    "            start=0,\n",
    "            stop=100\n",
    "        ), columns=output_columns\n",
    "    )\n",
    "\n",
    "# Save df as excel file\n",
    "sir_df.to_excel(\"sir.xlsx\")"
   ]
  }
 ],
 "metadata": {
  "kernelspec": {
   "display_name": "Python 3",
   "language": "python",
   "name": "python3"
  },
  "language_info": {
   "codemirror_mode": {
    "name": "ipython",
    "version": 3
   },
   "file_extension": ".py",
   "mimetype": "text/x-python",
   "name": "python",
   "nbconvert_exporter": "python",
   "pygments_lexer": "ipython3",
   "version": "3.8.2"
  }
 },
 "nbformat": 4,
 "nbformat_minor": 4
}
