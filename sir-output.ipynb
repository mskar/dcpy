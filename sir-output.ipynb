{
 "cells": [
  {
   "cell_type": "code",
   "execution_count": 1,
   "metadata": {
    "collapsed": false,
    "execution": {
     "iopub.execute_input": "2020-07-16T22:07:34.340106Z",
     "iopub.status.busy": "2020-07-16T22:07:34.339164Z",
     "iopub.status.idle": "2020-07-16T22:07:35.359395Z",
     "shell.execute_reply": "2020-07-16T22:07:35.359743Z"
    },
    "jupyter": {
     "outputs_hidden": false
    },
    "papermill": {
     "duration": 1.037736,
     "end_time": "2020-07-16T22:07:35.359991",
     "exception": false,
     "start_time": "2020-07-16T22:07:34.322255",
     "status": "completed"
    },
    "pycharm": {
     "name": "#%%\n"
    },
    "tags": []
   },
   "outputs": [],
   "source": [
    "# Imports\n",
    "import numpy as np\n",
    "import pandas as pd"
   ]
  },
  {
   "cell_type": "code",
   "execution_count": 2,
   "metadata": {
    "execution": {
     "iopub.execute_input": "2020-07-16T22:07:35.378775Z",
     "iopub.status.busy": "2020-07-16T22:07:35.378122Z",
     "iopub.status.idle": "2020-07-16T22:07:35.379987Z",
     "shell.execute_reply": "2020-07-16T22:07:35.380395Z"
    },
    "papermill": {
     "duration": 0.012939,
     "end_time": "2020-07-16T22:07:35.380557",
     "exception": false,
     "start_time": "2020-07-16T22:07:35.367618",
     "status": "completed"
    },
    "tags": [
     "parameters"
    ]
   },
   "outputs": [],
   "source": [
    "date = \"2020-07-07\"\n",
    "fips = 51059\n",
    "prop_beta = 1/3\n",
    "file_name = f\"{pd.Timestamp.today()}_sir-model-output.xlsx\""
   ]
  },
  {
   "cell_type": "code",
   "execution_count": 3,
   "metadata": {
    "execution": {
     "iopub.execute_input": "2020-07-16T22:07:35.401657Z",
     "iopub.status.busy": "2020-07-16T22:07:35.400925Z",
     "iopub.status.idle": "2020-07-16T22:07:35.402706Z",
     "shell.execute_reply": "2020-07-16T22:07:35.403060Z"
    },
    "papermill": {
     "duration": 0.014337,
     "end_time": "2020-07-16T22:07:35.403233",
     "exception": false,
     "start_time": "2020-07-16T22:07:35.388896",
     "status": "completed"
    },
    "tags": [
     "injected-parameters"
    ]
   },
   "outputs": [],
   "source": [
    "# Parameters\n",
    "date = \"2020-04-11\"\n"
   ]
  },
  {
   "cell_type": "code",
   "execution_count": 4,
   "metadata": {
    "collapsed": false,
    "execution": {
     "iopub.execute_input": "2020-07-16T22:07:35.426000Z",
     "iopub.status.busy": "2020-07-16T22:07:35.425401Z",
     "iopub.status.idle": "2020-07-16T22:07:37.008804Z",
     "shell.execute_reply": "2020-07-16T22:07:37.009266Z"
    },
    "jupyter": {
     "outputs_hidden": false
    },
    "papermill": {
     "duration": 1.597596,
     "end_time": "2020-07-16T22:07:37.009574",
     "exception": false,
     "start_time": "2020-07-16T22:07:35.411978",
     "status": "completed"
    },
    "pycharm": {
     "name": "#%%\n"
    },
    "tags": []
   },
   "outputs": [],
   "source": [
    "# Read in usafacts data\n",
    "case_df = pd.read_csv(\n",
    "    \"https://usafactsstatic.blob.core.windows.net/\"\n",
    "    \"public/data/covid-19/covid_confirmed_usafacts.csv\",\n",
    ").set_index(\"countyFIPS\").drop(\n",
    "    # Remove unallocated cases (FIPS 0 or 1)\n",
    "    range(2)\n",
    ").reset_index().melt(\n",
    "    # Melt dataframe (wide to long format)\n",
    "    id_vars=[\"countyFIPS\", \"County Name\", \"State\", \"stateFIPS\"],\n",
    "    value_name=\"confirmed\",\n",
    "    var_name=\"date\",\n",
    ").astype({\"date\": \"datetime64\"})"
   ]
  },
  {
   "cell_type": "code",
   "execution_count": 5,
   "metadata": {
    "collapsed": false,
    "execution": {
     "iopub.execute_input": "2020-07-16T22:07:37.035437Z",
     "iopub.status.busy": "2020-07-16T22:07:37.034813Z",
     "iopub.status.idle": "2020-07-16T22:07:43.613805Z",
     "shell.execute_reply": "2020-07-16T22:07:43.613325Z"
    },
    "jupyter": {
     "outputs_hidden": false
    },
    "papermill": {
     "duration": 6.594554,
     "end_time": "2020-07-16T22:07:43.613971",
     "exception": false,
     "start_time": "2020-07-16T22:07:37.019417",
     "status": "completed"
    },
    "pycharm": {
     "name": "#%%\n"
    },
    "tags": []
   },
   "outputs": [],
   "source": [
    "# Create a day variable from the date variable\n",
    "case_df = case_df.assign(\n",
    "    days=(case_df[\"date\"] - case_df[\"date\"].min()).dt.days\n",
    ")\n",
    "\n",
    "# Trim up to but not including day 30\n",
    "case_df = case_df[case_df[\"days\"].ge(30)]\n",
    "\n",
    "# Reverse order (highest to lowest day)\n",
    "case_df = case_df.sort_values([\"countyFIPS\", \"days\"], ascending=False)\n",
    "\n",
    "# Replace incorrect values with missing values\n",
    "while case_df.groupby(\"countyFIPS\")[\"confirmed\"].pct_change().gt(0).any():\n",
    "    case_df.loc[\n",
    "        case_df.groupby(\"countyFIPS\")[\"confirmed\"].pct_change().gt(0),\n",
    "        \"confirmed\",\n",
    "    ] = np.nan\n",
    "\n",
    "# Replace missing values with previous values\n",
    "case_df.assign(\n",
    "    confirmed=case_df[\"confirmed\"].ffill()\n",
    ")\n",
    "\n",
    "# Restore the original order (lowest to highest day)\n",
    "case_df = case_df.sort_values([\"countyFIPS\", \"days\"])\n",
    "\n",
    "case_df = case_df.assign(\n",
    "    # Calculate new cases from confirmed cases\n",
    "    new_cases=case_df.groupby(\"countyFIPS\")[\"confirmed\"]\n",
    "    .diff()\n",
    "    .fillna(0)\n",
    ")"
   ]
  },
  {
   "cell_type": "code",
   "execution_count": 6,
   "metadata": {
    "collapsed": false,
    "execution": {
     "iopub.execute_input": "2020-07-16T22:07:43.645444Z",
     "iopub.status.busy": "2020-07-16T22:07:43.644778Z",
     "iopub.status.idle": "2020-07-16T22:07:45.109158Z",
     "shell.execute_reply": "2020-07-16T22:07:45.109892Z"
    },
    "jupyter": {
     "outputs_hidden": false
    },
    "papermill": {
     "duration": 1.486517,
     "end_time": "2020-07-16T22:07:45.110240",
     "exception": false,
     "start_time": "2020-07-16T22:07:43.623723",
     "status": "completed"
    },
    "pycharm": {
     "name": "#%%\n"
    },
    "tags": []
   },
   "outputs": [],
   "source": [
    "# Read in population data\n",
    "cens_df = pd.read_csv(\n",
    "    \"https://www2.census.gov/programs-surveys/popest/datasets/\"\n",
    "    \"2010-2019/counties/totals/co-est2019-alldata.csv\",\n",
    "    usecols=[\n",
    "        \"STATE\",\n",
    "        \"COUNTY\",\n",
    "        \"STNAME\",\n",
    "        \"CTYNAME\",\n",
    "        \"POPESTIMATE2019\"\n",
    "    ],\n",
    "    encoding=\"latin-1\"\n",
    ")\n",
    "\n",
    "# Combine state and county fips\n",
    "cens_df = cens_df.assign(\n",
    "    county_fips=(\n",
    "        cens_df[\"STATE\"].astype(str)\n",
    "        + cens_df[\"COUNTY\"].astype(str).str.zfill(3)\n",
    "    ).astype(int)\n",
    ")"
   ]
  },
  {
   "cell_type": "code",
   "execution_count": 7,
   "metadata": {
    "execution": {
     "iopub.execute_input": "2020-07-16T22:07:45.135078Z",
     "iopub.status.busy": "2020-07-16T22:07:45.134491Z",
     "iopub.status.idle": "2020-07-16T22:07:45.136113Z",
     "shell.execute_reply": "2020-07-16T22:07:45.136493Z"
    },
    "papermill": {
     "duration": 0.012973,
     "end_time": "2020-07-16T22:07:45.136653",
     "exception": false,
     "start_time": "2020-07-16T22:07:45.123680",
     "status": "completed"
    },
    "tags": []
   },
   "outputs": [],
   "source": [
    "# pop_df = pd.read_csv(\n",
    "#     \"https://usafactsstatic.blob.core.windows.net/\"\n",
    "#     \"public/data/covid-19/covid_county_population_usafacts.csv\",\n",
    "#     ).set_index(\"countyFIPS\").drop(\n",
    "#         # Remove unallocated cases (FIPS 0)\n",
    "#         0\n",
    "#     ).reset_index()\n",
    "# pop_df.head()"
   ]
  },
  {
   "cell_type": "code",
   "execution_count": 8,
   "metadata": {
    "collapsed": false,
    "execution": {
     "iopub.execute_input": "2020-07-16T22:07:45.158203Z",
     "iopub.status.busy": "2020-07-16T22:07:45.157548Z",
     "iopub.status.idle": "2020-07-16T22:07:45.260524Z",
     "shell.execute_reply": "2020-07-16T22:07:45.261226Z"
    },
    "jupyter": {
     "outputs_hidden": false
    },
    "papermill": {
     "duration": 0.115981,
     "end_time": "2020-07-16T22:07:45.261558",
     "exception": false,
     "start_time": "2020-07-16T22:07:45.145577",
     "status": "completed"
    },
    "pycharm": {
     "name": "#%%\n"
    },
    "tags": []
   },
   "outputs": [],
   "source": [
    "# Merge data files\n",
    "df = case_df.merge(\n",
    "    cens_df,\n",
    "    left_on=\"countyFIPS\",\n",
    "    right_on=\"county_fips\",\n",
    "    how=\"left\"\n",
    ")"
   ]
  },
  {
   "cell_type": "code",
   "execution_count": 9,
   "metadata": {
    "collapsed": false,
    "execution": {
     "iopub.execute_input": "2020-07-16T22:07:45.292793Z",
     "iopub.status.busy": "2020-07-16T22:07:45.292088Z",
     "iopub.status.idle": "2020-07-16T22:07:48.156671Z",
     "shell.execute_reply": "2020-07-16T22:07:48.157128Z"
    },
    "jupyter": {
     "outputs_hidden": false
    },
    "papermill": {
     "duration": 2.881918,
     "end_time": "2020-07-16T22:07:48.157392",
     "exception": false,
     "start_time": "2020-07-16T22:07:45.275474",
     "status": "completed"
    },
    "pycharm": {
     "name": "#%%\n"
    },
    "tags": []
   },
   "outputs": [],
   "source": [
    "# Calculate model inputs\n",
    "GAMMA = 1/7\n",
    "# Growth rate\n",
    "df = df.assign(\n",
    "    gr=df.groupby(\"countyFIPS\")[\"confirmed\"].pct_change()\n",
    "       / df.groupby(\"countyFIPS\")[\"days\"].diff()\n",
    ")\n",
    "# Calculate 7-day moving average of growth rate\n",
    "df = df.assign(\n",
    "    smooth_gr=df.groupby(\"countyFIPS\")\n",
    "    .rolling(window=7, min_periods=1)[\"gr\"]\n",
    "    .mean()\n",
    "    .reset_index(level=0, drop=True)\n",
    ")\n",
    "\n",
    "# Calculate a cases added in previous 7 days - NW\n",
    "df = df.assign(\n",
    "    seven_day_new_cases = df.groupby(\"countyFIPS\")[\"confirmed\"]\n",
    "    .diff(periods = 7)\n",
    ")\n",
    "\n",
    "# Doubling time and beta\n",
    "df = df.assign(\n",
    "    dt=np.log(2) / np.log(df[\"gr\"] + 1),\n",
    "    smooth_dt=np.log(2) / np.log(df[\"smooth_gr\"] + 1),\n",
    "    beta=(df[\"gr\"] + GAMMA) / df[\"POPESTIMATE2019\"],\n",
    "    smooth_beta=(df[\"smooth_gr\"] + GAMMA) / df[\"POPESTIMATE2019\"],\n",
    ")\n",
    "\n",
    "# Rt\n",
    "df = df.assign(\n",
    "    rt=df[\"beta\"] / GAMMA * df[\"POPESTIMATE2019\"],\n",
    "    smooth_rt=df[\"smooth_beta\"] / GAMMA * df[\"POPESTIMATE2019\"],\n",
    ")"
   ]
  },
  {
   "cell_type": "code",
   "execution_count": 10,
   "metadata": {
    "collapsed": false,
    "execution": {
     "iopub.execute_input": "2020-07-16T22:07:48.189273Z",
     "iopub.status.busy": "2020-07-16T22:07:48.188565Z",
     "iopub.status.idle": "2020-07-16T22:07:48.190404Z",
     "shell.execute_reply": "2020-07-16T22:07:48.190794Z"
    },
    "jupyter": {
     "outputs_hidden": false
    },
    "papermill": {
     "duration": 0.021386,
     "end_time": "2020-07-16T22:07:48.190968",
     "exception": false,
     "start_time": "2020-07-16T22:07:48.169582",
     "status": "completed"
    },
    "pycharm": {
     "name": "#%%\n"
    },
    "tags": []
   },
   "outputs": [],
   "source": [
    "# Define sir function\n",
    "from typing import Iterator, Tuple, Dict\n",
    "\n",
    "import numpy as np\n",
    "\n",
    "def sir(\n",
    "        susceptible: int,\n",
    "        total_infected: int,\n",
    "        total_recovered: int,\n",
    "        new_infected: int,\n",
    "        new_recovered: int,\n",
    "        beta: float,\n",
    "        doubling_time: float,\n",
    "        growth_rate: float,\n",
    "        r_naught: float,\n",
    "        gamma: float = 1 / 7,\n",
    "        case_adjustment_factor: float = 10,\n",
    "        start: int = 0,\n",
    "        stop: int = 90\n",
    ") -> Iterator[Tuple[\n",
    "    int,\n",
    "    float,\n",
    "    float,\n",
    "    float,\n",
    "    float,\n",
    "    float,\n",
    "    float,\n",
    "    float,\n",
    "    float,\n",
    "    float\n",
    "]]:\n",
    "    \"\"\"\n",
    "    Calculate the number of susceptible people and incidence and prevalence\n",
    "    of infection and recovery in a population based on initial values.\n",
    "\n",
    "    Core SIR model function that forecasts new\n",
    "    - susceptible (S),\n",
    "    - infected (I), and\n",
    "    - recovered (R) values\n",
    "\n",
    "    Arguments:\n",
    "        susceptible: Initial number of susceptible people.\n",
    "        total_infected: Initial number of total confirmed infections.\n",
    "        total_recovered: Initial number of people who have recovered.\n",
    "        new_infected: Initial number of new infections.\n",
    "        new_recovered: Initial number of newly recovered individuals.\n",
    "        beta: The effective contact rate during social distancing.\n",
    "            BETA = (GROWTH_RATE + GAMMA) / SUSCEPTIBLE\n",
    "        growth_rate: The rate of growth of total_cases.\n",
    "            GROWTH_RATE = BETA * SUSCEPTIBLE - GAMMA\n",
    "            GROWTH_RATE = 2 ** (1 / DOUBLING_TIME) - 1\n",
    "        doubling_time: The time required for total_cases to double.\n",
    "             DOUBLING_TIME = ln(2)/ln(GROWTH_RATE + 1)\n",
    "        r_naught: The number of people a newly infected person will infect.\n",
    "            R_NAUGHT = (GROWTH_RATE + GAMMA) / GAMMA\n",
    "            R_NAUGHT = BETA / GAMMA * SUSCEPTIBLE\n",
    "        gamma: The inverse of the recovery length, e.g.\n",
    "            RECOVERY_TIME = 7\n",
    "            GAMMA = 1 / RECOVERY_TIME\n",
    "        case_adjustment_factor: A multiplier to estimate the true case count.\n",
    "            Under-reporting of cases is common because many are asymptomatic.\n",
    "            The case adjustment factor compensates for under-reporting.\n",
    "        start: The day for which initial values are provided, e.g. day 0.\n",
    "        stop: The total number of days to forecast (daily projections).\n",
    "\n",
    "    Yields:\n",
    "        Collected values across each day from start to end.\n",
    "        1. day\n",
    "        2. susceptible\n",
    "        3. total infected (infected prevalence)\n",
    "        4. total recovered (recovered prevalence)\n",
    "        5. new cases (infected incidence)\n",
    "        6. newly recovered individuals (recovered incidence)\n",
    "        7. beta (recalculated)\n",
    "        8. doubling time (recalculated)\n",
    "        9. growth rate (recalculated)\n",
    "        10. rt (recalculated)\n",
    "    \"\"\"\n",
    "    # Yield initial values\n",
    "    yield (\n",
    "        start,\n",
    "        susceptible,\n",
    "        total_infected,\n",
    "        total_recovered,\n",
    "        new_infected,\n",
    "        new_recovered,\n",
    "        beta,\n",
    "        doubling_time,\n",
    "        growth_rate,\n",
    "        r_naught\n",
    "    )\n",
    "    # Iterate over days and yield model outputs\n",
    "    for day in range(start + 1, stop + 1):\n",
    "        # New confirmed infections (new positive tests)\n",
    "        infected_incidence = beta * total_infected * susceptible # This beta needs to be adjusted, March period and last 7 days\n",
    "        # Number of infected who have just recovered\n",
    "        recovered_incidence = gamma * total_infected\n",
    "        # Number of people who are susceptible as of this time point\n",
    "        susceptible_new = (\n",
    "                susceptible\n",
    "                - case_adjustment_factor\n",
    "                * infected_incidence\n",
    "        )\n",
    "        # Total number of people who are infected as of this time point\n",
    "        infected_prevalence = (\n",
    "                infected_incidence\n",
    "                + total_infected\n",
    "                - recovered_incidence\n",
    "        )\n",
    "        # Total number of people who have recovered as of this time point\n",
    "        recovered_prevalence = (\n",
    "                recovered_incidence\n",
    "                + total_recovered\n",
    "                + infected_incidence * max(1., case_adjustment_factor - 1)\n",
    "        )\n",
    "        try:\n",
    "            doubling_time_new = (\n",
    "                    np.log(2) / np.log(infected_prevalence / total_infected)\n",
    "            )\n",
    "        except ZeroDivisionError:\n",
    "            doubling_time_new = np.nan\n",
    "        growth_rate_new = 2 ** (1 / doubling_time_new) - 1\n",
    "        beta_new = (growth_rate_new + gamma) / susceptible_new\n",
    "        rt = beta_new / gamma * susceptible_new\n",
    "        yield (\n",
    "            day,\n",
    "            susceptible_new,\n",
    "            infected_prevalence,\n",
    "            recovered_prevalence,\n",
    "            infected_incidence,\n",
    "            recovered_incidence,\n",
    "            beta_new,\n",
    "            doubling_time_new,\n",
    "            growth_rate_new,\n",
    "            rt\n",
    "        )\n",
    "        susceptible, total_infected, total_recovered = (\n",
    "            susceptible_new, infected_prevalence, recovered_prevalence\n",
    "        )"
   ]
  },
  {
   "cell_type": "code",
   "execution_count": 11,
   "metadata": {
    "execution": {
     "iopub.execute_input": "2020-07-16T22:07:48.216274Z",
     "iopub.status.busy": "2020-07-16T22:07:48.215534Z",
     "iopub.status.idle": "2020-07-16T22:07:48.925544Z",
     "shell.execute_reply": "2020-07-16T22:07:48.925942Z"
    },
    "papermill": {
     "duration": 0.726389,
     "end_time": "2020-07-16T22:07:48.926118",
     "exception": false,
     "start_time": "2020-07-16T22:07:48.199729",
     "status": "completed"
    },
    "tags": []
   },
   "outputs": [],
   "source": [
    "# Get the pre-mitigation Beta estimate and More recent Beta estimate\n",
    "# These two betas will be the min max used to be able to apply a fraction input to receive a new model beta\n",
    "# such as 1/3, 2/3, 1/6\n",
    "  \n",
    "from datetime import datetime, timedelta\n",
    "# Pre-mitigation\n",
    "# Median doubling times in March\n",
    "start = datetime.strptime(\"2020-03-01\", \"%Y-%m-%d\")\n",
    "end = datetime.strptime(\"2020-03-28\", \"%Y-%m-%d\")\n",
    "\n",
    "county_after_start = df[\"date\"] >= start\n",
    "county_before_end = df[\"date\"] <= end\n",
    "df = df.merge(\n",
    "    df[\n",
    "        county_after_start & county_before_end\n",
    "        ].groupby(\"countyFIPS\")[\"beta\"].median().rename(\n",
    "        \"county_unmitigated_beta\"\n",
    "    ).reset_index(),\n",
    "    on=\"countyFIPS\",\n",
    "    how=\"left\"\n",
    ")\n",
    "\n",
    "# Recent history betas\n",
    "recent_beta_end = df['date'].max()\n",
    "recent_beta_start = recent_beta_end - timedelta(days = 7) \n",
    "\n",
    "county_recent_start = df[\"date\"] >= recent_beta_start\n",
    "county_recent_end = df[\"date\"] <= recent_beta_end\n",
    "\n",
    "df = df.merge(\n",
    "    df[\n",
    "        county_recent_start & county_recent_end\n",
    "        ].groupby(\"countyFIPS\")[\"beta\"].median().rename(\n",
    "        \"county_mitigated_beta\"\n",
    "    ).reset_index(),\n",
    "    on=\"countyFIPS\",\n",
    "    how=\"left\"\n",
    ")\n",
    "\n"
   ]
  },
  {
   "cell_type": "code",
   "execution_count": 12,
   "metadata": {
    "execution": {
     "iopub.execute_input": "2020-07-16T22:07:48.948906Z",
     "iopub.status.busy": "2020-07-16T22:07:48.948335Z",
     "iopub.status.idle": "2020-07-16T22:07:48.951043Z",
     "shell.execute_reply": "2020-07-16T22:07:48.950461Z"
    },
    "papermill": {
     "duration": 0.016397,
     "end_time": "2020-07-16T22:07:48.951266",
     "exception": false,
     "start_time": "2020-07-16T22:07:48.934869",
     "status": "completed"
    },
    "tags": []
   },
   "outputs": [],
   "source": [
    "from typing import Tuple, List\n",
    "class MinMaxScaler:\n",
    "    def __init__(self, values: Tuple) -> List:\n",
    "        self.values = values\n",
    "        self.min_val = min(values)\n",
    "        self.max_val = max(values)\n",
    "        self.max_min_diff = self.max_val - self.min_val\n",
    "\n",
    "    def min_max_scale(self, x: Tuple):\n",
    "        return [(x_i - self.min_val) / self.max_min_diff for x_i in x]\n",
    "\n",
    "    def inverse_min_max_scale(self, x: Tuple):\n",
    "        return [x_i * self.max_min_diff + self.min_val for x_i in x]"
   ]
  },
  {
   "cell_type": "code",
   "execution_count": 13,
   "metadata": {
    "collapsed": false,
    "execution": {
     "iopub.execute_input": "2020-07-16T22:07:48.980393Z",
     "iopub.status.busy": "2020-07-16T22:07:48.979816Z",
     "iopub.status.idle": "2020-07-16T22:07:49.097462Z",
     "shell.execute_reply": "2020-07-16T22:07:49.097917Z"
    },
    "jupyter": {
     "outputs_hidden": false
    },
    "papermill": {
     "duration": 0.136638,
     "end_time": "2020-07-16T22:07:49.098109",
     "exception": false,
     "start_time": "2020-07-16T22:07:48.961471",
     "status": "completed"
    },
    "pycharm": {
     "name": "#%%\n"
    },
    "tags": []
   },
   "outputs": [],
   "source": [
    "# Pick county and start date - Model Lever 1 and 2\n",
    "county = df[\"countyFIPS\"] == fips\n",
    "start_date = df[\"date\"] == pd.to_datetime(date)\n",
    "\n",
    "# Get model inputs\n",
    "subset = df[county & start_date]\n",
    "s = subset[\"POPESTIMATE2019\"].values[0]\n",
    "#i = subset[\"confirmed\"].values[0] this results in way to many infections to start with\n",
    "i = subset[\"seven_day_new_cases\"].values[0]\n",
    "\n",
    "# Model Lever 3\n",
    "#################### Use this Beta for a status quo model for now####################\n",
    "b = subset[\"smooth_beta\"].values[0]\n",
    "#####################################################################################\n",
    "# Get beta subset\n",
    "# Scale to easily select a fractional thing between the min and max beta\n",
    "betas = subset[\"county_unmitigated_beta\"].values[0], subset[\"county_mitigated_beta\"].values[0]\n",
    "mms = MinMaxScaler(betas )\n",
    "############################## Use this Beta for non status quo scenarios (ex 1/3 releaese day 0)#############\n",
    "b = prop_beta * mms.max_min_diff + mms.min_val\n",
    "##############################################################################################################\n",
    "\n",
    "dt = subset[\"smooth_dt\"].values[0]\n",
    "gr = subset[\"smooth_gr\"].values[0]\n",
    "rt = subset[\"smooth_rt\"].values[0]"
   ]
  },
  {
   "cell_type": "code",
   "execution_count": 14,
   "metadata": {
    "execution": {
     "iopub.execute_input": "2020-07-16T22:07:49.126717Z",
     "iopub.status.busy": "2020-07-16T22:07:49.126055Z",
     "iopub.status.idle": "2020-07-16T22:07:49.567312Z",
     "shell.execute_reply": "2020-07-16T22:07:49.568014Z"
    },
    "papermill": {
     "duration": 0.460359,
     "end_time": "2020-07-16T22:07:49.568383",
     "exception": false,
     "start_time": "2020-07-16T22:07:49.108024",
     "status": "completed"
    },
    "tags": []
   },
   "outputs": [],
   "source": [
    "# Get historical confirmed from day 0 onward\n",
    "historical = df[county]\n",
    "historical.to_excel(\"full history.xlsx\")\n",
    "historical = historical[historical[\"date\"] >= pd.to_datetime(date)] #this date should be a variable instead of manual\n",
    "historical = historical[[\"date\", \"new_cases\"]].reset_index(drop=True)\n",
    "historical['days'] = historical.index\n",
    "#historical"
   ]
  },
  {
   "cell_type": "code",
   "execution_count": 15,
   "metadata": {
    "execution": {
     "iopub.execute_input": "2020-07-16T22:07:49.593422Z",
     "iopub.status.busy": "2020-07-16T22:07:49.592705Z",
     "iopub.status.idle": "2020-07-16T22:07:49.706226Z",
     "shell.execute_reply": "2020-07-16T22:07:49.706657Z"
    },
    "papermill": {
     "duration": 0.126562,
     "end_time": "2020-07-16T22:07:49.706860",
     "exception": false,
     "start_time": "2020-07-16T22:07:49.580298",
     "status": "completed"
    },
    "tags": []
   },
   "outputs": [],
   "source": [
    "# merge predictions and historical data\n",
    "final = df.merge(historical, on=['days', 'date', 'new_cases'])\n",
    "final.to_excel(file_name) # This should be automatically named"
   ]
  },
  {
   "cell_type": "markdown",
   "metadata": {
    "papermill": {
     "duration": 0.008713,
     "end_time": "2020-07-16T22:07:49.728334",
     "exception": false,
     "start_time": "2020-07-16T22:07:49.719621",
     "status": "completed"
    },
    "tags": []
   },
   "source": [
    "## Goal\n",
    "There is a need to rapidy produce models for a variety of start dates and scenarios, both for OWS and Dr. Butler weekly modeling exercises. Currently, Advana does not have the capability to produce model results that do not adhere to the system already established to run on a regular interval, and for scenarios not yet programmed into Advana. The goal of this workbook is to support the Epi team with the ability to produce model results in an easy and automated way, both for analysis and for dissemination.\n",
    "\n",
    "Functionaly, the Epis will need to be able to pull the following levers:\n",
    "- The date the model starts\n",
    "- A desired beta (i.e. 1/3 between full mitigation and no mitigation)\n",
    "- The county for which the model is run\n",
    "\n",
    "Currently these functions exist, but they need to be made more user friendly. Possible improvements to functionality include:\n",
    "- Allow the user to specify the model start date once (currently requires entry twice)\n",
    "- Allow the user to enter multiple sets of betas and run all models at once (currently only take one beta)\n",
    "- Allow the user to enter multiple starting dates and run all models at once (currently only takes one starting date)\n",
    "- Allow for the aggregation of the model results for each county requested. We commonly want to roll-up multiple counties that fall in the same catchment area for an MTF.\n",
    "- Produce historical case counts for all counties requested (currently saves the full case history in one excel file and attaches case history that overlaps with the time period of the model in the same excel file as the model output. \n",
    "- Produces line charts with the model results, and idealy case count history for a length specified by the user\n",
    "- Ability to run a model that is status quo on day zero, then alter the beta on a set date. Ex 1/3 Release Day 15\n",
    "\n",
    "Athough this would be nice in dashboard form, speed in development is more important than pure ease-of-use."
   ]
  }
 ],
 "metadata": {
  "kernelspec": {
   "display_name": "Python 3",
   "language": "python",
   "name": "python3"
  },
  "language_info": {
   "codemirror_mode": {
    "name": "ipython",
    "version": 3
   },
   "file_extension": ".py",
   "mimetype": "text/x-python",
   "name": "python",
   "nbconvert_exporter": "python",
   "pygments_lexer": "ipython3",
   "version": "3.8.2"
  },
  "papermill": {
   "duration": 21.891138,
   "end_time": "2020-07-16T22:07:50.052433",
   "environment_variables": {},
   "exception": null,
   "input_path": "sir.ipynb",
   "output_path": "sir-output.ipynb",
   "parameters": {
    "date": "2020-04-11"
   },
   "start_time": "2020-07-16T22:07:28.161295",
   "version": "2.1.2"
  }
 },
 "nbformat": 4,
 "nbformat_minor": 4
}