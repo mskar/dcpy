{
 "cells": [
  {
   "cell_type": "markdown",
   "id": "interesting-clerk",
   "metadata": {
    "slideshow": {
     "slide_type": "slide"
    },
    "tags": []
   },
   "source": [
    "# Jupyter Notebook Workflows with Jupytext and Papermill\n",
    "![](https://raw.githubusercontent.com/mwouts/jupytext/master/docs/logo_large.png)\n",
    "![](https://media.githubusercontent.com/media/nteract/logos/master/nteract_papermill/exports/images/png/papermill_logo_wide.png)\n"
   ]
  },
  {
   "cell_type": "markdown",
   "id": "cooked-cliff",
   "metadata": {
    "slideshow": {
     "slide_type": "slide"
    },
    "tags": []
   },
   "source": [
    "## Jupyter Notebook Pros and Cons\n",
    "\n",
    "Pros:\n",
    "- Intuitive interface\n",
    "- Ubiquitous (DataBricks, Colab, Azure notebooks, etc.)\n",
    "- Literate Programming\n",
    "- Many output formats, including HTML slides\n",
    "\n",
    "Cons:\n",
    "- Need to be rendered\n",
    "- Underlying structure is JSON\n",
    "- Not great for version control / text editors\n",
    "- Not like scripts (Harder to test and automate)"
   ]
  },
  {
   "cell_type": "markdown",
   "id": "systematic-torture",
   "metadata": {
    "slideshow": {
     "slide_type": "slide"
    },
    "tags": []
   },
   "source": [
    "## Jupytext\n",
    "\n",
    "[Repo](https://github.com/mwouts/jupytext)\n",
    "\n",
    "- Round-trip conversion for Jupyter notebooks\n",
    "- Many file formats including:\n",
    "  - [Jupytext Markdown format](docs/formats.md#jupytext-markdown)\n",
    "  - [MyST Markdown format](docs/formats.md#myst-markdown)\n",
    "  - [R Markdown format](docs/formats.md#r-markdown)\n",
    "  - Scripts in [many languages](docs/languages.md)\n",
    "- Demos: https://github.com/mwouts/jupytext/tree/master/demo"
   ]
  },
  {
   "cell_type": "markdown",
   "id": "secondary-speech",
   "metadata": {
    "slideshow": {
     "slide_type": "slide"
    },
    "tags": []
   },
   "source": [
    "### Jupytext menu in Jupyter Notebook\n",
    "\n",
    "Jupytext includes an extensions for Jupyter Notebook that adds a Jupytext section in the File menu.\n",
    "\n",
    "![](https://raw.githubusercontent.com/mwouts/jupytext/master/jupytext/nbextension/jupytext_menu.png)"
   ]
  },
  {
   "cell_type": "markdown",
   "id": "enabling-valuation",
   "metadata": {
    "slideshow": {
     "slide_type": "slide"
    },
    "tags": []
   },
   "source": [
    "### Jupytext commands in JupyterLab\n",
    "\n",
    "In JupyterLab, Jupytext adds a set of commands to the command palette (View / Activate Command Palette, or Ctrl+Shift+C):\n",
    "\n",
    "![](https://raw.githubusercontent.com/mwouts/jupytext/master/packages/labextension/jupytext_commands.png)"
   ]
  },
  {
   "cell_type": "markdown",
   "id": "meaningful-price",
   "metadata": {
    "slideshow": {
     "slide_type": "slide"
    }
   },
   "source": [
    "## Papermill\n",
    "[Repo](https://github.com/nteract/papermill#)\n",
    "-   **parameterize** notebooks using shell arguments\n",
    "-   **execute** notebooks like scripts"
   ]
  },
  {
   "cell_type": "markdown",
   "id": "homeless-checklist",
   "metadata": {
    "slideshow": {
     "slide_type": "slide"
    },
    "tags": []
   },
   "source": [
    "### Usage\n",
    "\n",
    "#### Parameterizing a Notebook\n",
    "\n",
    "To parameterize your notebook designate a cell with the tag ``parameters``.\n",
    "\n",
    "![enable parameters in Jupyter](https://raw.githubusercontent.com/nteract/papermill/main/docs/img/enable_parameters.gif)"
   ]
  },
  {
   "cell_type": "markdown",
   "id": "religious-webcam",
   "metadata": {
    "slideshow": {
     "slide_type": "slide"
    },
    "tags": []
   },
   "source": [
    "Papermill looks for the ``parameters`` cell and treats this cell as defaults for the parameters passed in at execution time. Papermill will add a new cell tagged with ``injected-parameters`` with input parameters in order to overwrite the values in ``parameters``. If no cell is tagged with ``parameters`` the injected cell will be inserted at the top of the notebook."
   ]
  },
  {
   "cell_type": "markdown",
   "id": "minimal-vegetable",
   "metadata": {
    "slideshow": {
     "slide_type": "slide"
    },
    "tags": []
   },
   "source": [
    "Additionally, if you rerun notebooks through papermill and it will reuse the ``injected-parameters`` cell from the prior run. In this case Papermill will replace the old ``injected-parameters`` cell with the new run's inputs.\n",
    "\n",
    "![image](https://raw.githubusercontent.com/nteract/papermill/main/docs/img/parameters.png)"
   ]
  }
 ],
 "metadata": {
  "celltoolbar": "Slideshow",
  "kernelspec": {
   "display_name": "Python 3",
   "language": "python",
   "name": "python3"
  },
  "language_info": {
   "codemirror_mode": {
    "name": "ipython",
    "version": 3
   },
   "file_extension": ".py",
   "mimetype": "text/x-python",
   "name": "python",
   "nbconvert_exporter": "python",
   "pygments_lexer": "ipython3",
   "version": "3.9.1"
  }
 },
 "nbformat": 4,
 "nbformat_minor": 5
}
