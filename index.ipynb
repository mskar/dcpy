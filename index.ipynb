{
 "cells": [
  {
   "cell_type": "markdown",
   "id": "fantastic-valuable",
   "metadata": {
    "slideshow": {
     "slide_type": "slide"
    },
    "tags": []
   },
   "source": [
    "# Jupyter Notebook Workflows with Jupytext and Papermill\n",
    "![](https://raw.githubusercontent.com/mwouts/jupytext/master/docs/logo_large.png)\n",
    "![](https://media.githubusercontent.com/media/nteract/logos/master/nteract_papermill/exports/images/png/papermill_logo_wide.png)\n"
   ]
  },
  {
   "cell_type": "markdown",
   "id": "romance-insertion",
   "metadata": {
    "slideshow": {
     "slide_type": "slide"
    },
    "tags": []
   },
   "source": [
    "## Jupyter Notebook Pros and Cons\n",
    "\n",
    "Pros:\n",
    "- Intuitive interface\n",
    "- Ubiquitous (DataBricks, Colab, Azure notebooks, etc.)\n",
    "- Literate Programming\n",
    "- Many output formats, including HTML slides\n",
    "\n",
    "Cons:\n",
    "- Need to be rendered\n",
    "- Underlying structure is JSON\n",
    "- Not great for version control / text editors\n",
    "- Not like scripts (Harder to test and automate)"
   ]
  },
  {
   "cell_type": "markdown",
   "id": "crazy-moral",
   "metadata": {
    "slideshow": {
     "slide_type": "slide"
    },
    "tags": []
   },
   "source": [
    "## About me\n",
    "\n",
    "- Site: https://mskar.github.io/\n",
    "- Twitter: https://twitter.com/marskar\n",
    "- LinkedIn: https://www.linkedin.com/in/mskar\n",
    "- Repo: https://github.com/mskar/dcpy\n",
    "\n",
    "![](https://mskar.github.io/image/martin.png)"
   ]
  },
  {
   "cell_type": "markdown",
   "id": "worth-transmission",
   "metadata": {
    "slideshow": {
     "slide_type": "slide"
    },
    "tags": []
   },
   "source": [
    "## Jupytext\n",
    "\n",
    "[Repo](https://github.com/mwouts/jupytext)\n",
    "\n",
    "- Round-trip conversion for Jupyter notebooks\n",
    "- Many file formats including:\n",
    "  - [Jupytext Markdown format](docs/formats.md#jupytext-markdown)\n",
    "  - [MyST Markdown format](docs/formats.md#myst-markdown)\n",
    "  - [R Markdown format](docs/formats.md#r-markdown)\n",
    "  - Scripts in [many languages](docs/languages.md)\n",
    "- Demo files: https://github.com/mwouts/jupytext/tree/master/demo"
   ]
  },
  {
   "cell_type": "markdown",
   "id": "designing-michael",
   "metadata": {
    "slideshow": {
     "slide_type": "slide"
    },
    "tags": []
   },
   "source": [
    "### Jupytext menu in Jupyter Notebook\n",
    "\n",
    "Jupytext includes an extensions for Jupyter Notebook that adds a Jupytext section in the File menu.\n",
    "\n",
    "![](https://raw.githubusercontent.com/mwouts/jupytext/master/jupytext/nbextension/jupytext_menu.png)"
   ]
  },
  {
   "cell_type": "markdown",
   "id": "stunning-beauty",
   "metadata": {
    "slideshow": {
     "slide_type": "slide"
    },
    "tags": []
   },
   "source": [
    "### Jupytext commands in JupyterLab\n",
    "\n",
    "In JupyterLab, Jupytext adds a set of commands to the command palette (View / Activate Command Palette, or Ctrl+Shift+C):\n",
    "\n",
    "![](https://raw.githubusercontent.com/mwouts/jupytext/master/packages/labextension/jupytext_commands.png)"
   ]
  },
  {
   "cell_type": "markdown",
   "id": "devoted-vaccine",
   "metadata": {
    "slideshow": {
     "slide_type": "slide"
    },
    "tags": []
   },
   "source": [
    "### Demos and Tutorials\n",
    "\n",
    "[![](https://img.shields.io/badge/TDS-Introducing%20Jupytext-blue.svg)](https://towardsdatascience.com/introducing-jupytext-9234fdff6c57)\n",
    "[![](https://img.shields.io/badge/YouTube-PyParis%202018-red.svg)](https://www.youtube.com/watch?v=y-VEZenk824)\n",
    "[![](https://img.shields.io/badge/YouTube-JupyterCon%202020-red.svg)](https://www.youtube.com/watch?v=SDYdeVfMh48)\n",
    "[![](https://img.shields.io/badge/CFM%20insights-Jupytext%20&%20Papermill-00ab6c.svg)](https://medium.com/capital-fund-management/automated-reports-with-jupyter-notebooks-using-jupytext-and-papermill-619e60c37330)\n",
    "[![](https://img.shields.io/badge/TDS-VS%20Code%20vs%20PyCharm-00ab6c.svg)](https://towardsdatascience.com/jupyter-notebooks-in-the-ide-visual-studio-code-versus-pycharm-5e72218eb3e8)\n",
    "[![](https://img.shields.io/badge/Binder-Try%20it!-blue.svg)](https://mybinder.org/v2/gh/mwouts/jupytext/master?urlpath=lab/tree/demo/get_started.ipynb)\n",
    "\n",
    "Looking for a demo?\n",
    "- Read the original [announcement](https://towardsdatascience.com/introducing-jupytext-9234fdff6c57) in _Towards Data Science_ (Sept. 2018),\n",
    "- Watch the [PyParis talk](https://github.com/mwouts/jupytext_pyparis_2018/blob/master/README.md) (Nov. 2018),\n",
    "- Read our article on [Jupytext and Papermill](https://medium.com/capital-fund-management/automated-reports-with-jupyter-notebooks-using-jupytext-and-papermill-619e60c37330) in _CFM Insights_ (Sept. 2019)\n",
    "- See how you can edit [Jupyter Notebooks in VS Code or PyCharm](https://towardsdatascience.com/jupyter-notebooks-in-the-ide-visual-studio-code-versus-pycharm-5e72218eb3e8) with (or without!) Jupytext (Jan. 2020)\n",
    "- Watch the [JupyterCon 2020 talk](https://github.com/mwouts/jupytext_jupytercon2020/blob/master/README.md) on Jupytext (Oct. 2020),\n",
    "- or, try Jupytext online with [binder](https://mybinder.org/v2/gh/mwouts/jupytext/master?urlpath=lab/tree/demo/get_started.ipynb)!\n"
   ]
  },
  {
   "cell_type": "markdown",
   "id": "union-mailman",
   "metadata": {
    "slideshow": {
     "slide_type": "slide"
    }
   },
   "source": [
    "## Papermill\n",
    "[Repo](https://github.com/nteract/papermill#)\n",
    "-   **parameterize** notebooks using shell arguments\n",
    "-   **execute** notebooks like scripts"
   ]
  },
  {
   "cell_type": "markdown",
   "id": "driven-midwest",
   "metadata": {
    "slideshow": {
     "slide_type": "slide"
    },
    "tags": []
   },
   "source": [
    "### Usage\n",
    "\n",
    "#### Parameterizing a Notebook\n",
    "\n",
    "To parameterize your notebook designate a cell with the tag ``parameters``.\n",
    "\n",
    "![enable parameters in Jupyter](https://raw.githubusercontent.com/nteract/papermill/main/docs/img/enable_parameters.gif)"
   ]
  },
  {
   "cell_type": "markdown",
   "id": "every-infrastructure",
   "metadata": {
    "slideshow": {
     "slide_type": "slide"
    },
    "tags": []
   },
   "source": [
    "Papermill looks for the ``parameters`` cell and treats this cell as defaults for the parameters passed in at execution time. Papermill will add a new cell tagged with ``injected-parameters`` with input parameters in order to overwrite the values in ``parameters``. If no cell is tagged with ``parameters`` the injected cell will be inserted at the top of the notebook."
   ]
  },
  {
   "cell_type": "markdown",
   "id": "following-serbia",
   "metadata": {
    "slideshow": {
     "slide_type": "slide"
    },
    "tags": []
   },
   "source": [
    "Additionally, if you rerun notebooks through papermill and it will reuse the ``injected-parameters`` cell from the prior run. In this case Papermill will replace the old ``injected-parameters`` cell with the new run's inputs.\n",
    "\n",
    "![image](https://raw.githubusercontent.com/nteract/papermill/main/docs/img/parameters.png)"
   ]
  }
 ],
 "metadata": {
  "celltoolbar": "Slideshow",
  "kernelspec": {
   "display_name": "Python 3",
   "language": "python",
   "name": "python3"
  },
  "language_info": {
   "codemirror_mode": {
    "name": "ipython",
    "version": 3
   },
   "file_extension": ".py",
   "mimetype": "text/x-python",
   "name": "python",
   "nbconvert_exporter": "python",
   "pygments_lexer": "ipython3",
   "version": "3.9.1"
  }
 },
 "nbformat": 4,
 "nbformat_minor": 5
}
