{
 "cells": [
  {
   "cell_type": "markdown",
   "id": "considered-robert",
   "metadata": {
    "slideshow": {
     "slide_type": "slide"
    },
    "tags": []
   },
   "source": [
    "# Jupyter Notebook Workflows with Jupytext and Papermill\n",
    "![](https://raw.githubusercontent.com/mwouts/jupytext/master/docs/logo_large.png)\n",
    "![](https://media.githubusercontent.com/media/nteract/logos/master/nteract_papermill/exports/images/png/papermill_logo_wide.png)\n"
   ]
  },
  {
   "cell_type": "markdown",
   "id": "convertible-excuse",
   "metadata": {
    "slideshow": {
     "slide_type": "slide"
    },
    "tags": []
   },
   "source": [
    "## Jupyter Notebook Pros and Cons\n",
    "\n",
    "Pros:\n",
    "- Intuitive interface\n",
    "- Ubiquitous (DataBricks, Colab, Azure notebooks, etc.)\n",
    "- Literate Programming\n",
    "- Many output formats, including HTML slides\n",
    "\n",
    "Cons:\n",
    "- Need to be rendered\n",
    "- Underlying structure is JSON\n",
    "- Not great for version control / text editors\n",
    "- Not like scripts (Harder to test and automate)"
   ]
  },
  {
   "cell_type": "markdown",
   "id": "close-tuner",
   "metadata": {
    "slideshow": {
     "slide_type": "slide"
    },
    "tags": []
   },
   "source": [
    "## Jupytext\n",
    "\n",
    "[Repo](https://github.com/mwouts/jupytext)\n",
    "\n",
    "- Round-trip conversion for Jupyter notebooks\n",
    "- Many file formats including:\n",
    "  - [Jupytext Markdown format](docs/formats.md#jupytext-markdown)\n",
    "  - [MyST Markdown format](docs/formats.md#myst-markdown)\n",
    "  - [R Markdown format](docs/formats.md#r-markdown)\n",
    "  - Scripts in [many languages](docs/languages.md)\n",
    "- Demos: https://github.com/mwouts/jupytext/tree/master/demo"
   ]
  },
  {
   "cell_type": "markdown",
   "id": "plain-congress",
   "metadata": {
    "slideshow": {
     "slide_type": "slide"
    }
   },
   "source": [
    "## Papermill\n",
    "[Repo](https://github.com/nteract/papermill#)\n",
    "-   **parameterize** notebooks using shell arguments\n",
    "-   **execute** notebooks like scripts"
   ]
  },
  {
   "cell_type": "code",
   "execution_count": null,
   "id": "heavy-missile",
   "metadata": {},
   "outputs": [],
   "source": []
  }
 ],
 "metadata": {
  "celltoolbar": "Slideshow",
  "kernelspec": {
   "display_name": "Python 3",
   "language": "python",
   "name": "python3"
  },
  "language_info": {
   "codemirror_mode": {
    "name": "ipython",
    "version": 3
   },
   "file_extension": ".py",
   "mimetype": "text/x-python",
   "name": "python",
   "nbconvert_exporter": "python",
   "pygments_lexer": "ipython3",
   "version": "3.9.1"
  }
 },
 "nbformat": 4,
 "nbformat_minor": 5
}
