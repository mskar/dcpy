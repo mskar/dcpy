{
 "cells": [
  {
   "cell_type": "markdown",
   "metadata": {
    "jupyter": {
     "outputs_hidden": false
    },
    "papermill": {
     "duration": 0.00979,
     "end_time": "2020-08-20T04:26:41.489979",
     "exception": false,
     "start_time": "2020-08-20T04:26:41.480189",
     "status": "completed"
    },
    "pycharm": {
     "name": "#%%\n"
    },
    "tags": []
   },
   "source": [
    "# Imports"
   ]
  },
  {
   "cell_type": "code",
   "execution_count": 1,
   "metadata": {
    "collapsed": false,
    "jupyter": {
     "outputs_hidden": false
    },
    "papermill": {
     "duration": 0.468685,
     "end_time": "2020-08-20T04:26:41.967268",
     "exception": false,
     "start_time": "2020-08-20T04:26:41.498583",
     "status": "completed"
    },
    "pycharm": {
     "name": "#%%\n"
    },
    "tags": []
   },
   "outputs": [],
   "source": [
    "import numpy as np\n",
    "import pandas as pd\n",
    "import matplotlib.pyplot as plt\n",
    "import seaborn as sns\n",
    "import scipy"
   ]
  },
  {
   "cell_type": "markdown",
   "metadata": {
    "papermill": {
     "duration": 0.009529,
     "end_time": "2020-08-20T04:26:52.876565",
     "exception": false,
     "start_time": "2020-08-20T04:26:52.867036",
     "status": "completed"
    },
    "tags": []
   },
   "source": [
    "# Default inputs"
   ]
  },
  {
   "cell_type": "code",
   "execution_count": 2,
   "metadata": {},
   "outputs": [],
   "source": [
    "DATE = \"2020-08-24\"\n",
    "FORWARD = True\n",
    "DAYS = 60\n",
    "N = 1000\n",
    "FIPS = 17031\n",
    "GAMMA = 1 / 7"
   ]
  },
  {
   "cell_type": "code",
   "execution_count": 3,
   "metadata": {},
   "outputs": [],
   "source": [
    "start = pd.to_datetime(DATE)"
   ]
  },
  {
   "cell_type": "code",
   "execution_count": 4,
   "metadata": {},
   "outputs": [],
   "source": [
    "shift = pd.Timedelta(pd.offsets.Day(DAYS))"
   ]
  },
  {
   "cell_type": "code",
   "execution_count": 5,
   "metadata": {},
   "outputs": [],
   "source": [
    "stop = start + shift if FORWARD else start - shift"
   ]
  },
  {
   "cell_type": "code",
   "execution_count": 6,
   "metadata": {},
   "outputs": [],
   "source": [
    "if stop < start and not FORWARD:\n",
    "    stop, start = start, stop"
   ]
  },
  {
   "cell_type": "markdown",
   "metadata": {
    "papermill": {
     "duration": 0.009529,
     "end_time": "2020-08-20T04:26:52.876565",
     "exception": false,
     "start_time": "2020-08-20T04:26:52.867036",
     "status": "completed"
    },
    "tags": []
   },
   "source": [
    "# Injected inputs"
   ]
  },
  {
   "cell_type": "code",
   "execution_count": 7,
   "metadata": {
    "papermill": {
     "duration": 0.020135,
     "end_time": "2020-08-20T04:26:42.044933",
     "exception": false,
     "start_time": "2020-08-20T04:26:42.024798",
     "status": "completed"
    },
    "tags": [
     "injected-parameters"
    ]
   },
   "outputs": [],
   "source": [
    "# Parameters\n",
    "FIPS = 36061"
   ]
  },
  {
   "cell_type": "markdown",
   "metadata": {},
   "source": [
    "# Constants"
   ]
  },
  {
   "cell_type": "code",
   "execution_count": 8,
   "metadata": {
    "papermill": {
     "duration": 0.015726,
     "end_time": "2020-08-20T04:26:42.073283",
     "exception": false,
     "start_time": "2020-08-20T04:26:42.057557",
     "status": "completed"
    },
    "tags": []
   },
   "outputs": [],
   "source": [
    "TODAY = pd.Timestamp.today().date()\n",
    "OUTPUT_FILE_NAME = f\"{TODAY}_{FIPS}_betas.csv\""
   ]
  },
  {
   "cell_type": "markdown",
   "metadata": {
    "execution": {
     "iopub.execute_input": "2020-08-20T02:02:52.364304Z",
     "iopub.status.busy": "2020-08-20T02:02:52.363762Z",
     "iopub.status.idle": "2020-08-20T02:02:55.809298Z",
     "shell.execute_reply": "2020-08-20T02:02:55.809697Z"
    },
    "jupyter": {
     "outputs_hidden": false
    },
    "papermill": {
     "duration": 0.008074,
     "end_time": "2020-08-20T04:26:53.028416",
     "exception": false,
     "start_time": "2020-08-20T04:26:53.020342",
     "status": "completed"
    },
    "pycharm": {
     "name": "#%%\n"
    },
    "tags": []
   },
   "source": [
    "# Read in USA FACTS data"
   ]
  },
  {
   "cell_type": "code",
   "execution_count": 9,
   "metadata": {
    "collapsed": false,
    "jupyter": {
     "outputs_hidden": false
    },
    "papermill": {
     "duration": 2.805071,
     "end_time": "2020-08-20T04:26:55.841816",
     "exception": false,
     "start_time": "2020-08-20T04:26:53.036745",
     "status": "completed"
    },
    "pycharm": {
     "name": "#%%\n"
    },
    "tags": []
   },
   "outputs": [],
   "source": [
    "case_df = pd.read_csv(\n",
    "    \"https://usafactsstatic.blob.core.windows.net/\"\n",
    "    \"public/data/covid-19/covid_confirmed_usafacts.csv\",\n",
    ")\n",
    "\n",
    "case_df = case_df[case_df[\"countyFIPS\"] == FIPS].melt(\n",
    "    # Melt dataframe (wide to long format)\n",
    "    id_vars=[\"countyFIPS\", \"County Name\", \"State\", \"StateFIPS\"],\n",
    "    value_name=\"confirmed\",\n",
    "    var_name=\"date\",\n",
    ").astype({\"date\": \"datetime64\"})"
   ]
  },
  {
   "cell_type": "code",
   "execution_count": 10,
   "metadata": {
    "collapsed": false,
    "jupyter": {
     "outputs_hidden": false
    },
    "papermill": {
     "duration": 0.61827,
     "end_time": "2020-08-20T04:26:56.470550",
     "exception": false,
     "start_time": "2020-08-20T04:26:55.852280",
     "status": "completed"
    },
    "pycharm": {
     "name": "#%%\n"
    },
    "tags": []
   },
   "outputs": [],
   "source": [
    "# Create a day variable from the date variable\n",
    "case_df = case_df.assign(\n",
    "    days=(case_df[\"date\"] - case_df[\"date\"].min()).dt.days\n",
    ")\n",
    "\n",
    "# Trim up to but not including day 30\n",
    "case_df = case_df[case_df[\"days\"].ge(30)]\n",
    "\n",
    "# Reverse order (highest to lowest day)\n",
    "case_df = case_df.sort_values(\"days\", ascending=False)\n",
    "\n",
    "# Replace incorrect values with missing values\n",
    "while case_df[\"confirmed\"].pct_change().gt(0).any():\n",
    "    case_df.loc[\n",
    "        case_df[\"confirmed\"].pct_change().gt(0),\n",
    "        \"confirmed\",\n",
    "    ] = np.nan\n",
    "\n",
    "# Replace missing values with previous values\n",
    "case_df.assign(\n",
    "    confirmed=case_df[\"confirmed\"].ffill()\n",
    ")\n",
    "\n",
    "# Restore the original order (lowest to highest day)\n",
    "case_df = case_df.sort_values([\"countyFIPS\", \"days\"])\n",
    "\n",
    "case_df = case_df.assign(\n",
    "    # Calculate new cases from confirmed cases\n",
    "    new_cases=case_df[\"confirmed\"]\n",
    "    .diff()\n",
    "    .fillna(0)\n",
    ")"
   ]
  },
  {
   "cell_type": "markdown",
   "metadata": {
    "jupyter": {
     "outputs_hidden": false
    },
    "papermill": {
     "duration": 0.008911,
     "end_time": "2020-08-20T04:26:45.434742",
     "exception": false,
     "start_time": "2020-08-20T04:26:45.425831",
     "status": "completed"
    },
    "pycharm": {
     "name": "#%%\n"
    },
    "tags": []
   },
   "source": [
    "# Read in county population data"
   ]
  },
  {
   "cell_type": "code",
   "execution_count": 11,
   "metadata": {
    "collapsed": false,
    "jupyter": {
     "outputs_hidden": false
    },
    "papermill": {
     "duration": 2.203942,
     "end_time": "2020-08-20T04:26:47.647942",
     "exception": false,
     "start_time": "2020-08-20T04:26:45.444000",
     "status": "completed"
    },
    "pycharm": {
     "name": "#%%\n"
    },
    "tags": []
   },
   "outputs": [],
   "source": [
    "cens_df = pd.read_csv(\n",
    "    \"https://www2.census.gov/programs-surveys/popest/datasets/\"\n",
    "    \"2010-2019/counties/totals/co-est2019-alldata.csv\",\n",
    "    usecols=[\n",
    "        \"STATE\",\n",
    "        \"COUNTY\",\n",
    "        \"STNAME\",\n",
    "        \"CTYNAME\",\n",
    "        \"POPESTIMATE2019\"\n",
    "    ],\n",
    "    encoding=\"latin-1\"\n",
    ")\n",
    "\n",
    "# Combine state and county fips\n",
    "cens_df = cens_df.assign(\n",
    "    county_fips=(\n",
    "        cens_df[\"STATE\"].astype(str)\n",
    "        + cens_df[\"COUNTY\"].astype(str).str.zfill(3)\n",
    "    ).astype(int)\n",
    ")"
   ]
  },
  {
   "cell_type": "code",
   "execution_count": 12,
   "metadata": {
    "papermill": {
     "duration": 0.014291,
     "end_time": "2020-08-20T04:26:58.593584",
     "exception": false,
     "start_time": "2020-08-20T04:26:58.579293",
     "status": "completed"
    },
    "tags": []
   },
   "outputs": [],
   "source": [
    "# pop_df = pd.read_csv(\n",
    "#     \"https://usafactsstatic.blob.core.windows.net/\"\n",
    "#     \"public/data/covid-19/covid_county_population_usafacts.csv\",\n",
    "#     ).set_index(\"countyFIPS\").drop(\n",
    "#         # Remove unallocated cases (FIPS 0)\n",
    "#         0\n",
    "#     ).reset_index()\n",
    "# pop_df.head()"
   ]
  },
  {
   "cell_type": "markdown",
   "metadata": {
    "execution": {
     "iopub.execute_input": "2020-08-20T02:02:58.836688Z",
     "iopub.status.busy": "2020-08-20T02:02:58.836086Z",
     "iopub.status.idle": "2020-08-20T02:02:58.958586Z",
     "shell.execute_reply": "2020-08-20T02:02:58.959237Z"
    },
    "jupyter": {
     "outputs_hidden": false
    },
    "papermill": {
     "duration": 0.009509,
     "end_time": "2020-08-20T04:26:58.612491",
     "exception": false,
     "start_time": "2020-08-20T04:26:58.602982",
     "status": "completed"
    },
    "pycharm": {
     "name": "#%%\n"
    },
    "tags": []
   },
   "source": [
    "# Add population to case data"
   ]
  },
  {
   "cell_type": "code",
   "execution_count": 13,
   "metadata": {
    "collapsed": false,
    "jupyter": {
     "outputs_hidden": false
    },
    "papermill": {
     "duration": 0.148206,
     "end_time": "2020-08-20T04:26:58.770219",
     "exception": false,
     "start_time": "2020-08-20T04:26:58.622013",
     "status": "completed"
    },
    "pycharm": {
     "name": "#%%\n"
    },
    "tags": []
   },
   "outputs": [],
   "source": [
    "df = case_df.assign(\n",
    "    population=float(\n",
    "        cens_df.loc[\n",
    "        cens_df[\"county_fips\"] == FIPS,\n",
    "        \"POPESTIMATE2019\"\n",
    "        ]\n",
    "    )\n",
    ").set_index(\"date\")"
   ]
  },
  {
   "cell_type": "markdown",
   "metadata": {
    "jupyter": {
     "outputs_hidden": false
    },
    "papermill": {
     "duration": 0.008892,
     "end_time": "2020-08-20T04:26:47.813793",
     "exception": false,
     "start_time": "2020-08-20T04:26:47.804901",
     "status": "completed"
    },
    "pycharm": {
     "name": "#%%\n"
    },
    "tags": []
   },
   "source": [
    "# Calculate growth_rate, doubling time, beta, and Rt"
   ]
  },
  {
   "cell_type": "markdown",
   "metadata": {},
   "source": [
    "$\\Huge r = \\frac{new\\_cases_t - new\\_cases_{t-1}}{new\\_cases_{t-1}}$\n",
    "\n",
    "$\\Huge T_d=\\frac{ln(2)}{ln(r+1)}$\n",
    "\n",
    "$\\Huge \\beta=\\frac{r+\\gamma}{N}$\n",
    "\n",
    "$\\Huge R_t=e^{r\\cdot T_c}=\\frac{\\beta \\cdot N}{\\gamma}=\\frac{r + \\gamma}{\\gamma}$\n",
    "\n",
    "$\\Huge T_c=\\frac{ln(\\frac{\\beta \\cdot N}{\\gamma})}{r}=\\frac{ln(\\frac{r + \\gamma}{\\gamma})}{r}$"
   ]
  },
  {
   "cell_type": "code",
   "execution_count": 14,
   "metadata": {
    "collapsed": false,
    "jupyter": {
     "outputs_hidden": false
    },
    "pycharm": {
     "name": "#%%\n"
    }
   },
   "outputs": [
    {
     "name": "stderr",
     "output_type": "stream",
     "text": [
      "/Users/martinskarzynski/miniconda/envs/py/lib/python3.8/site-packages/pandas/core/series.py:679: RuntimeWarning: invalid value encountered in log\n",
      "  result = getattr(ufunc, method)(*inputs, **kwargs)\n",
      "/Users/martinskarzynski/miniconda/envs/py/lib/python3.8/site-packages/pandas/core/series.py:679: RuntimeWarning: divide by zero encountered in log\n",
      "  result = getattr(ufunc, method)(*inputs, **kwargs)\n"
     ]
    }
   ],
   "source": [
    "# %% Growth rate\n",
    "df = df.assign(\n",
    "    susceptible=df[\"population\"] - (df[\"confirmed\"] * 10),\n",
    "    gr=df[\"new_cases\"].pct_change() / df[\"days\"].diff(),\n",
    ")\n",
    "\n",
    "# Remove infinite and missing growth rates \n",
    "df[\"gr\"] = df[\"gr\"].replace([np.inf, -np.inf], np.nan)\n",
    "df = df.dropna(subset=[\"gr\"])\n",
    "\n",
    "df = df.assign(\n",
    "    beta=(df[\"gr\"] + GAMMA) / df[\"susceptible\"],\n",
    "    # Calculate 7-day moving average of growth rate\n",
    "    smooth_gr=df[\"gr\"].rolling(\n",
    "        window=7,\n",
    "        min_periods=1\n",
    "    ).mean(),\n",
    ")\n",
    "\n",
    "df = df.assign(\n",
    "    smooth_beta=(df[\"smooth_gr\"] + GAMMA) / df[\"susceptible\"],\n",
    ")"
   ]
  },
  {
   "cell_type": "markdown",
   "metadata": {
    "papermill": {
     "duration": 0.009341,
     "end_time": "2020-08-20T04:26:50.037326",
     "exception": false,
     "start_time": "2020-08-20T04:26:50.027985",
     "status": "completed"
    },
    "tags": []
   },
   "source": [
    "# Filter out smoothed betas that are zero"
   ]
  },
  {
   "cell_type": "code",
   "execution_count": 15,
   "metadata": {
    "papermill": {
     "duration": 0.015005,
     "end_time": "2020-08-20T04:26:50.061347",
     "exception": false,
     "start_time": "2020-08-20T04:26:50.046342",
     "status": "completed"
    },
    "tags": []
   },
   "outputs": [],
   "source": [
    "df = df[df[\"smooth_beta\"] != 0]"
   ]
  },
  {
   "cell_type": "markdown",
   "metadata": {
    "papermill": {
     "duration": 0.008726,
     "end_time": "2020-08-20T04:26:50.079094",
     "exception": false,
     "start_time": "2020-08-20T04:26:50.070368",
     "status": "completed"
    },
    "tags": []
   },
   "source": [
    "# Create beta dataframe"
   ]
  },
  {
   "cell_type": "code",
   "execution_count": 16,
   "metadata": {},
   "outputs": [
    {
     "data": {
      "text/html": [
       "<div>\n",
       "<style scoped>\n",
       "    .dataframe tbody tr th:only-of-type {\n",
       "        vertical-align: middle;\n",
       "    }\n",
       "\n",
       "    .dataframe tbody tr th {\n",
       "        vertical-align: top;\n",
       "    }\n",
       "\n",
       "    .dataframe thead th {\n",
       "        text-align: right;\n",
       "    }\n",
       "</style>\n",
       "<table border=\"1\" class=\"dataframe\">\n",
       "  <thead>\n",
       "    <tr style=\"text-align: right;\">\n",
       "      <th></th>\n",
       "      <th>days</th>\n",
       "      <th>smooth_beta</th>\n",
       "    </tr>\n",
       "    <tr>\n",
       "      <th>date</th>\n",
       "      <th></th>\n",
       "      <th></th>\n",
       "    </tr>\n",
       "  </thead>\n",
       "  <tbody>\n",
       "    <tr>\n",
       "      <th>2020-03-03</th>\n",
       "      <td>41</td>\n",
       "      <td>-5.262755e-07</td>\n",
       "    </tr>\n",
       "    <tr>\n",
       "      <th>2020-03-06</th>\n",
       "      <td>44</td>\n",
       "      <td>-3.727854e-07</td>\n",
       "    </tr>\n",
       "    <tr>\n",
       "      <th>2020-03-07</th>\n",
       "      <td>45</td>\n",
       "      <td>3.947236e-07</td>\n",
       "    </tr>\n",
       "    <tr>\n",
       "      <th>2020-03-08</th>\n",
       "      <td>46</td>\n",
       "      <td>1.644682e-07</td>\n",
       "    </tr>\n",
       "    <tr>\n",
       "      <th>2020-03-10</th>\n",
       "      <td>48</td>\n",
       "      <td>2.719357e-07</td>\n",
       "    </tr>\n",
       "    <tr>\n",
       "      <th>...</th>\n",
       "      <td>...</td>\n",
       "      <td>...</td>\n",
       "    </tr>\n",
       "    <tr>\n",
       "      <th>2020-12-12</th>\n",
       "      <td>325</td>\n",
       "      <td>1.690423e-07</td>\n",
       "    </tr>\n",
       "    <tr>\n",
       "      <th>2020-12-13</th>\n",
       "      <td>326</td>\n",
       "      <td>1.461559e-07</td>\n",
       "    </tr>\n",
       "    <tr>\n",
       "      <th>2020-12-14</th>\n",
       "      <td>327</td>\n",
       "      <td>1.639231e-07</td>\n",
       "    </tr>\n",
       "    <tr>\n",
       "      <th>2020-12-15</th>\n",
       "      <td>328</td>\n",
       "      <td>1.985071e-07</td>\n",
       "    </tr>\n",
       "    <tr>\n",
       "      <th>2020-12-16</th>\n",
       "      <td>329</td>\n",
       "      <td>1.398490e-07</td>\n",
       "    </tr>\n",
       "  </tbody>\n",
       "</table>\n",
       "<p>285 rows × 2 columns</p>\n",
       "</div>"
      ],
      "text/plain": [
       "            days   smooth_beta\n",
       "date                          \n",
       "2020-03-03    41 -5.262755e-07\n",
       "2020-03-06    44 -3.727854e-07\n",
       "2020-03-07    45  3.947236e-07\n",
       "2020-03-08    46  1.644682e-07\n",
       "2020-03-10    48  2.719357e-07\n",
       "...          ...           ...\n",
       "2020-12-12   325  1.690423e-07\n",
       "2020-12-13   326  1.461559e-07\n",
       "2020-12-14   327  1.639231e-07\n",
       "2020-12-15   328  1.985071e-07\n",
       "2020-12-16   329  1.398490e-07\n",
       "\n",
       "[285 rows x 2 columns]"
      ]
     },
     "execution_count": 16,
     "metadata": {},
     "output_type": "execute_result"
    }
   ],
   "source": [
    "df[[\"days\", \"smooth_beta\"]]"
   ]
  },
  {
   "cell_type": "code",
   "execution_count": 17,
   "metadata": {},
   "outputs": [],
   "source": [
    "ffit3 = np.polynomial.Polynomial.fit(df.days, df.smooth_beta, deg=3)\n",
    "ffit4 = np.polynomial.Polynomial.fit(df.days, df.smooth_beta, deg=4)\n",
    "ffit5 = np.polynomial.Polynomial.fit(df.days, df.smooth_beta, deg=5)\n",
    "ffit6 = np.polynomial.Polynomial.fit(df.days, df.smooth_beta, deg=6)"
   ]
  },
  {
   "cell_type": "code",
   "execution_count": 18,
   "metadata": {},
   "outputs": [
    {
     "data": {
      "image/png": "[encoded data removed]",
      "text/plain": [
       "<Figure size 432x288 with 1 Axes>"
      ]
     },
     "metadata": {
      "needs_background": "light"
     },
     "output_type": "display_data"
    }
   ],
   "source": [
    "r = np.arange(40, 246)\n",
    "plt.plot(r, ffit3(r), label=\"3rd degree polynomial\")\n",
    "plt.plot(r, ffit4(r), label=\"4th degree polynomial\")\n",
    "plt.plot(r, ffit5(r), label=\"5th degree polynomial\")\n",
    "plt.plot(r, ffit6(r), label=\"6th degree polynomial\")\n",
    "plt.plot(df.days, df.smooth_beta)\n",
    "plt.ylabel(\"Smoothed beta\")\n",
    "plt.xlabel(\"Days\")\n",
    "plt.legend(loc=4)\n",
    "plt.savefig(f\"{TODAY}_{FIPS}_beta-polynomials.png\");"
   ]
  },
  {
   "cell_type": "code",
   "execution_count": 19,
   "metadata": {},
   "outputs": [
    {
     "data": {
      "text/plain": [
       "329"
      ]
     },
     "execution_count": 19,
     "metadata": {},
     "output_type": "execute_result"
    }
   ],
   "source": [
    "df.days.max()"
   ]
  },
  {
   "cell_type": "code",
   "execution_count": 20,
   "metadata": {},
   "outputs": [],
   "source": [
    "start_day = df.loc[start, \"days\"]\n",
    "stop_day = df.loc[stop, \"days\"]"
   ]
  },
  {
   "cell_type": "code",
   "execution_count": 21,
   "metadata": {},
   "outputs": [
    {
     "data": {
      "text/plain": [
       "Timedelta('-60 days +00:00:00')"
      ]
     },
     "execution_count": 21,
     "metadata": {},
     "output_type": "execute_result"
    }
   ],
   "source": [
    "start - stop"
   ]
  },
  {
   "cell_type": "code",
   "execution_count": 22,
   "metadata": {},
   "outputs": [],
   "source": [
    "r = np.linspace(start_day, stop_day, N)"
   ]
  },
  {
   "cell_type": "code",
   "execution_count": 23,
   "metadata": {},
   "outputs": [
    {
     "data": {
      "text/plain": [
       "(1000,)"
      ]
     },
     "execution_count": 23,
     "metadata": {},
     "output_type": "execute_result"
    }
   ],
   "source": [
    "r.shape"
   ]
  },
  {
   "cell_type": "code",
   "execution_count": 24,
   "metadata": {},
   "outputs": [],
   "source": [
    "poly_betas = np.concatenate([ffit3(r), ffit4(r), ffit5(r), ffit6(r)]) "
   ]
  },
  {
   "cell_type": "code",
   "execution_count": 25,
   "metadata": {},
   "outputs": [
    {
     "data": {
      "text/plain": [
       "array([1.23524057e-07, 1.23766311e-07, 1.24008574e-07, ...,\n",
       "       1.19022321e-07, 1.19338289e-07, 1.19655180e-07])"
      ]
     },
     "execution_count": 25,
     "metadata": {},
     "output_type": "execute_result"
    }
   ],
   "source": [
    "poly_betas"
   ]
  },
  {
   "cell_type": "code",
   "execution_count": 26,
   "metadata": {},
   "outputs": [
    {
     "data": {
      "text/plain": [
       "(4000,)"
      ]
     },
     "execution_count": 26,
     "metadata": {},
     "output_type": "execute_result"
    }
   ],
   "source": [
    "poly_betas.shape"
   ]
  },
  {
   "cell_type": "code",
   "execution_count": 27,
   "metadata": {},
   "outputs": [],
   "source": [
    "r4 = np.concatenate([r]*4)"
   ]
  },
  {
   "cell_type": "code",
   "execution_count": 28,
   "metadata": {},
   "outputs": [
    {
     "data": {
      "text/plain": [
       "(4000,)"
      ]
     },
     "execution_count": 28,
     "metadata": {},
     "output_type": "execute_result"
    }
   ],
   "source": [
    "r4.shape"
   ]
  },
  {
   "cell_type": "code",
   "execution_count": 29,
   "metadata": {},
   "outputs": [],
   "source": [
    "beta_df = pd.DataFrame({\"beta\": poly_betas, \"beta_day\": r4})"
   ]
  },
  {
   "cell_type": "code",
   "execution_count": 30,
   "metadata": {},
   "outputs": [
    {
     "data": {
      "text/html": [
       "<div>\n",
       "<style scoped>\n",
       "    .dataframe tbody tr th:only-of-type {\n",
       "        vertical-align: middle;\n",
       "    }\n",
       "\n",
       "    .dataframe tbody tr th {\n",
       "        vertical-align: top;\n",
       "    }\n",
       "\n",
       "    .dataframe thead th {\n",
       "        text-align: right;\n",
       "    }\n",
       "</style>\n",
       "<table border=\"1\" class=\"dataframe\">\n",
       "  <thead>\n",
       "    <tr style=\"text-align: right;\">\n",
       "      <th></th>\n",
       "      <th>beta</th>\n",
       "      <th>beta_day</th>\n",
       "    </tr>\n",
       "  </thead>\n",
       "  <tbody>\n",
       "    <tr>\n",
       "      <th>0</th>\n",
       "      <td>1.235241e-07</td>\n",
       "      <td>215.00000</td>\n",
       "    </tr>\n",
       "    <tr>\n",
       "      <th>1000</th>\n",
       "      <td>1.836783e-07</td>\n",
       "      <td>215.00000</td>\n",
       "    </tr>\n",
       "    <tr>\n",
       "      <th>3000</th>\n",
       "      <td>2.173008e-07</td>\n",
       "      <td>215.00000</td>\n",
       "    </tr>\n",
       "    <tr>\n",
       "      <th>2000</th>\n",
       "      <td>1.895223e-07</td>\n",
       "      <td>215.00000</td>\n",
       "    </tr>\n",
       "    <tr>\n",
       "      <th>3001</th>\n",
       "      <td>2.170849e-07</td>\n",
       "      <td>215.06006</td>\n",
       "    </tr>\n",
       "    <tr>\n",
       "      <th>...</th>\n",
       "      <td>...</td>\n",
       "      <td>...</td>\n",
       "    </tr>\n",
       "    <tr>\n",
       "      <th>998</th>\n",
       "      <td>2.765958e-07</td>\n",
       "      <td>274.93994</td>\n",
       "    </tr>\n",
       "    <tr>\n",
       "      <th>1999</th>\n",
       "      <td>1.676279e-07</td>\n",
       "      <td>275.00000</td>\n",
       "    </tr>\n",
       "    <tr>\n",
       "      <th>999</th>\n",
       "      <td>2.765664e-07</td>\n",
       "      <td>275.00000</td>\n",
       "    </tr>\n",
       "    <tr>\n",
       "      <th>2999</th>\n",
       "      <td>1.637998e-07</td>\n",
       "      <td>275.00000</td>\n",
       "    </tr>\n",
       "    <tr>\n",
       "      <th>3999</th>\n",
       "      <td>1.196552e-07</td>\n",
       "      <td>275.00000</td>\n",
       "    </tr>\n",
       "  </tbody>\n",
       "</table>\n",
       "<p>4000 rows × 2 columns</p>\n",
       "</div>"
      ],
      "text/plain": [
       "              beta   beta_day\n",
       "0     1.235241e-07  215.00000\n",
       "1000  1.836783e-07  215.00000\n",
       "3000  2.173008e-07  215.00000\n",
       "2000  1.895223e-07  215.00000\n",
       "3001  2.170849e-07  215.06006\n",
       "...            ...        ...\n",
       "998   2.765958e-07  274.93994\n",
       "1999  1.676279e-07  275.00000\n",
       "999   2.765664e-07  275.00000\n",
       "2999  1.637998e-07  275.00000\n",
       "3999  1.196552e-07  275.00000\n",
       "\n",
       "[4000 rows x 2 columns]"
      ]
     },
     "execution_count": 30,
     "metadata": {},
     "output_type": "execute_result"
    }
   ],
   "source": [
    "beta_df.sort_values(by=\"beta_day\")"
   ]
  },
  {
   "cell_type": "markdown",
   "metadata": {},
   "source": [
    "# Statistical testing\n",
    "- 2 distributions: Before and after memorial day\n",
    "- compare with parametric (t-test) and non-parametric test (Mann Whitney)\n",
    "- are both are normal (Shapiro-Wilk test)"
   ]
  },
  {
   "cell_type": "markdown",
   "metadata": {
    "papermill": {
     "duration": 0.008726,
     "end_time": "2020-08-20T04:26:50.079094",
     "exception": false,
     "start_time": "2020-08-20T04:26:50.070368",
     "status": "completed"
    },
    "tags": []
   },
   "source": [
    "# Plot betas"
   ]
  },
  {
   "cell_type": "code",
   "execution_count": 31,
   "metadata": {},
   "outputs": [
    {
     "data": {
      "image/png": "[encoded data removed]",
      "text/plain": [
       "<Figure size 432x288 with 1 Axes>"
      ]
     },
     "metadata": {
      "needs_background": "light"
     },
     "output_type": "display_data"
    }
   ],
   "source": [
    "plt.plot(poly_betas)\n",
    "plt.ylabel(\"Polynomial beta\")\n",
    "plt.xlabel(\"Index\")\n",
    "plt.savefig(f\"{TODAY}_{FIPS}_beta-vs-index.png\");"
   ]
  },
  {
   "cell_type": "code",
   "execution_count": 32,
   "metadata": {},
   "outputs": [
    {
     "data": {
      "image/png": "[encoded data removed]",
      "text/plain": [
       "<Figure size 432x288 with 1 Axes>"
      ]
     },
     "metadata": {
      "needs_background": "light"
     },
     "output_type": "display_data"
    }
   ],
   "source": [
    "sns.distplot(beta_df[\"beta\"])\n",
    "plt.savefig(f\"{TODAY}_{FIPS}_beta-histogram.png\");"
   ]
  },
  {
   "cell_type": "code",
   "execution_count": 33,
   "metadata": {},
   "outputs": [
    {
     "data": {
      "image/png": "[encoded data removed]",
      "text/plain": [
       "<Figure size 432x288 with 1 Axes>"
      ]
     },
     "metadata": {
      "needs_background": "light"
     },
     "output_type": "display_data"
    }
   ],
   "source": [
    "sns.distplot(beta_df[\"beta\"].pct_change(), kde=False)\n",
    "plt.ylabel(\"Count\")\n",
    "plt.xlabel(\"Beta\")\n",
    "plt.savefig(f\"{TODAY}_{FIPS}_delta-beta-histogram.png\");"
   ]
  },
  {
   "cell_type": "code",
   "execution_count": 34,
   "metadata": {},
   "outputs": [
    {
     "data": {
      "image/png": "[encoded data removed]",
      "text/plain": [
       "<Figure size 432x288 with 1 Axes>"
      ]
     },
     "metadata": {
      "needs_background": "light"
     },
     "output_type": "display_data"
    }
   ],
   "source": [
    "import matplotlib.ticker as mticker\n",
    "sns.distplot(beta_df[\"beta\"].pct_change(), kde=False)\n",
    "plt.yscale(\"log\", basey=2)\n",
    "plt.ylabel(\"Count\")\n",
    "plt.xlabel(\"Beta\")\n",
    "plt.gcf().axes[0].yaxis.set_major_formatter(mticker.ScalarFormatter())\n",
    "plt.savefig(f\"{TODAY}_{FIPS}_log2-delta-beta-histogram.png\");"
   ]
  },
  {
   "cell_type": "code",
   "execution_count": 35,
   "metadata": {},
   "outputs": [
    {
     "data": {
      "image/png": "[encoded data removed]",
      "text/plain": [
       "<Figure size 432x288 with 1 Axes>"
      ]
     },
     "metadata": {
      "needs_background": "light"
     },
     "output_type": "display_data"
    }
   ],
   "source": [
    "import matplotlib.ticker as mticker\n",
    "sns.distplot(beta_df[\"beta\"].pct_change(), kde=False)\n",
    "plt.yscale(\"log\")\n",
    "plt.ylabel(\"Count\")\n",
    "plt.xlabel(\"Beta\")\n",
    "plt.gcf().axes[0].yaxis.set_major_formatter(mticker.ScalarFormatter())\n",
    "plt.savefig(f\"{TODAY}_{FIPS}_log10-delta-beta-histogram.png\");"
   ]
  },
  {
   "cell_type": "code",
   "execution_count": 36,
   "metadata": {
    "papermill": {
     "duration": 0.06577,
     "end_time": "2020-08-20T04:26:50.153614",
     "exception": false,
     "start_time": "2020-08-20T04:26:50.087844",
     "status": "completed"
    },
    "tags": []
   },
   "outputs": [
    {
     "data": {
      "image/png": "[encoded data removed]",
      "text/plain": [
       "<Figure size 432x288 with 1 Axes>"
      ]
     },
     "metadata": {
      "needs_background": "light"
     },
     "output_type": "display_data"
    }
   ],
   "source": [
    "beta_df[\"beta\"].plot.box();\n",
    "plt.savefig(f\"{TODAY}_{FIPS}_beta-boxplot.png\");"
   ]
  },
  {
   "cell_type": "code",
   "execution_count": 37,
   "metadata": {
    "papermill": {
     "duration": 0.06577,
     "end_time": "2020-08-20T04:26:50.153614",
     "exception": false,
     "start_time": "2020-08-20T04:26:50.087844",
     "status": "completed"
    },
    "tags": []
   },
   "outputs": [
    {
     "data": {
      "image/png": "[encoded data removed]",
      "text/plain": [
       "<Figure size 432x288 with 1 Axes>"
      ]
     },
     "metadata": {
      "needs_background": "light"
     },
     "output_type": "display_data"
    }
   ],
   "source": [
    "sns.violinplot(beta_df[\"beta\"]);\n",
    "plt.savefig(f\"{TODAY}_{FIPS}_beta-violinplot.png\");"
   ]
  },
  {
   "cell_type": "markdown",
   "metadata": {
    "papermill": {
     "duration": 0.007937,
     "end_time": "2020-08-20T04:26:50.169641",
     "exception": false,
     "start_time": "2020-08-20T04:26:50.161704",
     "status": "completed"
    },
    "tags": []
   },
   "source": [
    "# Report beta distribution stats"
   ]
  },
  {
   "cell_type": "code",
   "execution_count": 38,
   "metadata": {
    "papermill": {
     "duration": 0.06577,
     "end_time": "2020-08-20T04:26:50.153614",
     "exception": false,
     "start_time": "2020-08-20T04:26:50.087844",
     "status": "completed"
    },
    "tags": []
   },
   "outputs": [
    {
     "data": {
      "text/plain": [
       "0"
      ]
     },
     "execution_count": 38,
     "metadata": {},
     "output_type": "execute_result"
    }
   ],
   "source": [
    "beta_df[\"beta\"].kurtosis()"
   ]
  },
  {
   "cell_type": "code",
   "execution_count": 39,
   "metadata": {
    "papermill": {
     "duration": 0.06577,
     "end_time": "2020-08-20T04:26:50.153614",
     "exception": false,
     "start_time": "2020-08-20T04:26:50.087844",
     "status": "completed"
    },
    "tags": []
   },
   "outputs": [
    {
     "data": {
      "text/plain": [
       "0.0"
      ]
     },
     "execution_count": 39,
     "metadata": {},
     "output_type": "execute_result"
    }
   ],
   "source": [
    "beta_df[\"beta\"].skew()"
   ]
  },
  {
   "cell_type": "code",
   "execution_count": 40,
   "metadata": {},
   "outputs": [
    {
     "data": {
      "text/plain": [
       "count    4.000000e+03\n",
       "mean     1.819226e-07\n",
       "std      5.111521e-08\n",
       "min      7.189728e-08\n",
       "25%      1.661456e-07\n",
       "50%      1.930642e-07\n",
       "75%      2.044562e-07\n",
       "max      2.773755e-07\n",
       "Name: beta, dtype: float64"
      ]
     },
     "execution_count": 40,
     "metadata": {},
     "output_type": "execute_result"
    }
   ],
   "source": [
    "beta_df[\"beta\"].describe()"
   ]
  },
  {
   "cell_type": "markdown",
   "metadata": {
    "papermill": {
     "duration": 0.007937,
     "end_time": "2020-08-20T04:26:50.169641",
     "exception": false,
     "start_time": "2020-08-20T04:26:50.161704",
     "status": "completed"
    },
    "tags": []
   },
   "source": [
    "# Test for deviation from normality"
   ]
  },
  {
   "cell_type": "code",
   "execution_count": 41,
   "metadata": {},
   "outputs": [
    {
     "data": {
      "text/plain": [
       "3.3743267020941595e-42"
      ]
     },
     "execution_count": 41,
     "metadata": {},
     "output_type": "execute_result"
    }
   ],
   "source": [
    "scipy.stats.shapiro(beta_df[\"beta\"]).pvalue"
   ]
  },
  {
   "cell_type": "code",
   "execution_count": 42,
   "metadata": {},
   "outputs": [
    {
     "data": {
      "text/plain": [
       "1.628765923124826e-31"
      ]
     },
     "execution_count": 42,
     "metadata": {},
     "output_type": "execute_result"
    }
   ],
   "source": [
    "scipy.stats.normaltest(beta_df[\"beta\"]).pvalue"
   ]
  },
  {
   "cell_type": "code",
   "execution_count": 43,
   "metadata": {},
   "outputs": [
    {
     "data": {
      "text/plain": [
       "0.0"
      ]
     },
     "execution_count": 43,
     "metadata": {},
     "output_type": "execute_result"
    }
   ],
   "source": [
    "scipy.stats.kstest(beta_df[\"beta\"], 'norm').pvalue"
   ]
  },
  {
   "cell_type": "markdown",
   "metadata": {
    "papermill": {
     "duration": 0.007937,
     "end_time": "2020-08-20T04:26:50.169641",
     "exception": false,
     "start_time": "2020-08-20T04:26:50.161704",
     "status": "completed"
    },
    "tags": []
   },
   "source": [
    "# Save beta dataframe as a csv"
   ]
  },
  {
   "cell_type": "code",
   "execution_count": 44,
   "metadata": {
    "papermill": {
     "duration": 0.015503,
     "end_time": "2020-08-20T04:26:50.192874",
     "exception": false,
     "start_time": "2020-08-20T04:26:50.177371",
     "status": "completed"
    },
    "tags": []
   },
   "outputs": [],
   "source": [
    "beta_df.to_csv(OUTPUT_FILE_NAME, index=False)"
   ]
  }
 ],
 "metadata": {
  "kernelspec": {
   "display_name": "Python 3",
   "language": "python",
   "name": "python3"
  },
  "language_info": {
   "codemirror_mode": {
    "name": "ipython",
    "version": 3
   },
   "file_extension": ".py",
   "mimetype": "text/x-python",
   "name": "python",
   "nbconvert_exporter": "python",
   "pygments_lexer": "ipython3",
   "version": "3.9.1"
  },
  "papermill": {
   "duration": 10.046205,
   "end_time": "2020-08-20T04:26:50.513740",
   "environment_variables": {},
   "exception": null,
   "input_path": "beta.ipynb",
   "output_path": "beta.ipynb",
   "parameters": {
    "FIPS": 17031
   },
   "start_time": "2020-08-20T04:26:40.467535",
   "version": "2.1.2"
  }
 },
 "nbformat": 4,
 "nbformat_minor": 4
}
